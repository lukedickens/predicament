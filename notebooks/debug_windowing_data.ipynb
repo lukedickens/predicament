{
 "cells": [
  {
   "cell_type": "code",
   "execution_count": 1,
   "id": "71a68b46",
   "metadata": {},
   "outputs": [],
   "source": [
    "import numpy as np \n",
    "import pandas as pd \n",
    "import matplotlib.pyplot as plt\n",
    "import itertools\n",
    "import json\n",
    "from datetime import datetime\n",
    "import scipy.stats\n",
    "\n",
    "\n"
   ]
  },
  {
   "cell_type": "code",
   "execution_count": 2,
   "id": "0221f6aa",
   "metadata": {},
   "outputs": [
    {
     "name": "stdout",
     "output_type": "stream",
     "text": [
      "thisdir = /home/luke/git/external/predicament/notebooks\n",
      "Adding parent directory to python path\n",
      "sys.path =\n",
      "['/home/luke/git/external/predicament/notebooks', '/home/luke/git/external/predicament', '/usr/lib/python310.zip', '/usr/lib/python3.10', '/usr/lib/python3.10/lib-dynload', '', '/home/luke/.local/lib/python3.10/site-packages', '/usr/local/lib/python3.10/dist-packages', '/usr/lib/python3/dist-packages', '/usr/lib/python3.10/dist-packages']\n"
     ]
    }
   ],
   "source": [
    "# This is a hack to make the library in the parent folder available for imoprts\n",
    "# A better solution is by np8 here:\n",
    "# https://stackoverflow.com/questions/714063/importing-modules-from-parent-folder\n",
    "import sys\n",
    "import os\n",
    "import inspect\n",
    "\n",
    "thisdir = sys.path[0]\n",
    "print(f\"thisdir = {thisdir}\")\n",
    "parentdir = os.path.dirname(thisdir)\n",
    "#print(f\"parentdir = {parentdir}\")\n",
    "if not parentdir in sys.path:\n",
    "    print(\"Adding parent directory to python path\")\n",
    "    sys.path.insert(1, parentdir)\n",
    "else:\n",
    "    print(\"Skipping adding parent direct to path (there already)\")\n",
    "\n",
    "print(f\"sys.path =\\n{sys.path}\")\n"
   ]
  },
  {
   "cell_type": "code",
   "execution_count": 3,
   "id": "ebaf3785",
   "metadata": {},
   "outputs": [],
   "source": [
    "## ensure relative path to data directory is sound\n",
    "# for the notebook we need to modify the BASE_DATA_FOLDER\n",
    "import os \n",
    "os.environ['PREDICAMENT_DATA_DIR'] =  '../data'"
   ]
  },
  {
   "cell_type": "code",
   "execution_count": 4,
   "id": "9c926b8c",
   "metadata": {},
   "outputs": [
    {
     "name": "stderr",
     "output_type": "stream",
     "text": [
      "VG_01:setup is valid but timestamps have issues.\n",
      "VG_01:baseline is valid but timestamps have issues.\n",
      "VG_02:setup is valid but timestamps have issues.\n",
      "VG_02:takeoff_EEG is valid but timestamps have issues.\n",
      "VG_06:takeoff_EEG is valid but timestamps have issues.\n",
      "VG_07:takeoff_EEG is valid but timestamps have issues.\n",
      "VG_08:family_inter is valid but timestamps have issues.\n",
      "VG_10:setup is valid but timestamps have issues.\n",
      "VG_10:takeoff_EEG is valid but timestamps have issues.\n",
      "VH_01:family_inter is valid but timestamps have issues.\n"
     ]
    },
    {
     "name": "stdout",
     "output_type": "stream",
     "text": [
      "Extracting EDF parameters from /home/luke/git/external/predicament/data/CARE_HOME_DATA/VG01/8921_15_52.edf...\n",
      "EDF file detected\n",
      "Setting channel info structure...\n",
      "Creating raw.info structure...\n",
      "Extracting EDF parameters from /home/luke/git/external/predicament/data/CARE_HOME_DATA/VG02/7921_15_18.edf...\n",
      "EDF file detected\n",
      "Setting channel info structure...\n",
      "Creating raw.info structure...\n",
      "Extracting EDF parameters from /home/luke/git/external/predicament/data/CARE_HOME_DATA/VG03/90921_12_20.edf...\n",
      "EDF file detected\n",
      "Setting channel info structure...\n",
      "Creating raw.info structure...\n",
      "Extracting EDF parameters from /home/luke/git/external/predicament/data/CARE_HOME_DATA/VG05/90921_13_27.edf...\n",
      "EDF file detected\n",
      "Setting channel info structure...\n",
      "Creating raw.info structure...\n",
      "Extracting EDF parameters from /home/luke/git/external/predicament/data/CARE_HOME_DATA/VG06/51021_13_40.edf...\n",
      "EDF file detected\n",
      "Setting channel info structure...\n",
      "Creating raw.info structure...\n",
      "Extracting EDF parameters from /home/luke/git/external/predicament/data/CARE_HOME_DATA/VG07/51021_15_43.edf...\n",
      "EDF file detected\n",
      "Setting channel info structure...\n",
      "Creating raw.info structure...\n",
      "Extracting EDF parameters from /home/luke/git/external/predicament/data/CARE_HOME_DATA/VG08/71021_10_44.edf...\n",
      "EDF file detected\n",
      "Setting channel info structure...\n",
      "Creating raw.info structure...\n",
      "Extracting EDF parameters from /home/luke/git/external/predicament/data/CARE_HOME_DATA/VG09/11221_14_59.edf...\n",
      "EDF file detected\n",
      "Setting channel info structure...\n",
      "Creating raw.info structure...\n",
      "Extracting EDF parameters from /home/luke/git/external/predicament/data/CARE_HOME_DATA/VG10/31221_11_24.edf...\n",
      "EDF file detected\n",
      "Setting channel info structure...\n",
      "Creating raw.info structure...\n",
      "Extracting EDF parameters from /home/luke/git/external/predicament/data/CARE_HOME_DATA/VH01/61021_11_17.edf...\n",
      "EDF file detected\n",
      "Setting channel info structure...\n",
      "Creating raw.info structure...\n",
      "Extracting EDF parameters from /home/luke/git/external/predicament/data/CARE_HOME_DATA/VH02/61021_14_3.edf...\n",
      "EDF file detected\n",
      "Setting channel info structure...\n",
      "Creating raw.info structure...\n",
      "Extracting EDF parameters from /home/luke/git/external/predicament/data/CARE_HOME_DATA/VH03/11221_11_21.edf...\n",
      "EDF file detected\n",
      "Setting channel info structure...\n",
      "Creating raw.info structure...\n"
     ]
    }
   ],
   "source": [
    "from prepare_evaluation_data import load_and_window_participant_data\n",
    "\n",
    "data_by_participant, config = load_and_window_participant_data(data_format='dreem')\n"
   ]
  },
  {
   "cell_type": "code",
   "execution_count": 59,
   "id": "a0ff65d7",
   "metadata": {},
   "outputs": [
    {
     "name": "stdout",
     "output_type": "stream",
     "text": [
      "window_size = 1024\n"
     ]
    }
   ],
   "source": [
    "n_channels = int(config['LOAD']['n_channels'])\n",
    "window_size = int(config['WINDOWED']['window_size'])\n",
    "channels = json.loads(config['LOAD']['channels'].replace(\"'\",'\"'))\n",
    "timepoints = np.arange(window_size)\n",
    "print(f\"window_size = {window_size}\")"
   ]
  },
  {
   "cell_type": "code",
   "execution_count": 52,
   "id": "66bbfccb",
   "metadata": {},
   "outputs": [],
   "source": [
    "windows, targets = data_by_participant['VG_01']"
   ]
  },
  {
   "cell_type": "code",
   "execution_count": 53,
   "id": "1479ee03",
   "metadata": {},
   "outputs": [
    {
     "data": {
      "text/plain": [
       "(2657, 4096)"
      ]
     },
     "execution_count": 53,
     "metadata": {},
     "output_type": "execute_result"
    }
   ],
   "source": [
    "windows.shape"
   ]
  },
  {
   "cell_type": "code",
   "execution_count": 54,
   "id": "7153b205",
   "metadata": {},
   "outputs": [
    {
     "data": {
      "text/plain": [
       "(2657,)"
      ]
     },
     "execution_count": 54,
     "metadata": {},
     "output_type": "execute_result"
    }
   ],
   "source": [
    "targets.shape"
   ]
  },
  {
   "cell_type": "code",
   "execution_count": 55,
   "id": "5a999334",
   "metadata": {},
   "outputs": [],
   "source": [
    "label_cols = ['participant', 'condition', 'window index']\n",
    "columns = label_cols + [ ch+f'[{t}]' for ch in channels for t in timepoints]\n",
    "\n",
    "df = pd.DataFrame(columns=columns)\n"
   ]
  },
  {
   "cell_type": "code",
   "execution_count": 56,
   "id": "091b7eb9",
   "metadata": {},
   "outputs": [
    {
     "data": {
      "text/plain": [
       "{'_dict': dict,\n",
       " '_sections': {'LOAD': {'participant_list': \"['VG_01', 'VG_02', 'VG_03', 'VG_05', 'VG_06', 'VG_07', 'VG_08', 'VG_09', 'VG_10', 'VH_01', 'VH_02', 'VH_03']\",\n",
       "   'conditions': \"['exper_video', 'wildlife_video', 'familiar_music', 'tchaikovsky', 'family_inter']\",\n",
       "   'channels': \"['EEG Fpz-O1', 'EEG Fpz-O2', 'EEG Fpz-F7', 'EEG Fpz-F8']\",\n",
       "   'n_channels': '4',\n",
       "   'sample_rate': '250',\n",
       "   'window_size': '1024',\n",
       "   'window_step': '128',\n",
       "   'label_mapping': \"['exper_video', 'familiar_music', 'family_inter', 'tchaikovsky', 'wildlife_video']\",\n",
       "   'data_format': 'dreem'}},\n",
       " '_defaults': {},\n",
       " '_converters': <configparser.ConverterMapping at 0x7efbfe8d26b0>,\n",
       " '_proxies': {'DEFAULT': <Section: DEFAULT>, 'LOAD': <Section: LOAD>},\n",
       " '_delimiters': ('=', ':'),\n",
       " '_optcre': re.compile(r'\\n        (?P<option>.*?)                    # very permissive!\\n        \\s*(?P<vi>=|:)\\s*              # any number of space/tab,\\n                                           # followed by any of the\\n                                           # allowed delimiters,\\n                                           # followed by any space/tab\\n        (?P<value>.*)$                     # everything up to eol\\n        ',\n",
       "            re.UNICODE|re.VERBOSE),\n",
       " '_comment_prefixes': ('#', ';'),\n",
       " '_inline_comment_prefixes': (),\n",
       " '_strict': True,\n",
       " '_allow_no_value': False,\n",
       " '_empty_lines_in_values': True,\n",
       " 'default_section': 'DEFAULT',\n",
       " '_interpolation': <configparser.BasicInterpolation at 0x7efc5e8b1330>}"
      ]
     },
     "execution_count": 56,
     "metadata": {},
     "output_type": "execute_result"
    }
   ],
   "source": [
    "vars(config)"
   ]
  },
  {
   "cell_type": "code",
   "execution_count": 58,
   "id": "76c53782",
   "metadata": {},
   "outputs": [
    {
     "name": "stdout",
     "output_type": "stream",
     "text": [
      "windows.shape = (2657, 4096)\n",
      "windows.shape = (2638, 4096)\n",
      "windows.shape = (2072, 4096)\n",
      "windows.shape = (2423, 4096)\n",
      "windows.shape = (2423, 4096)\n",
      "windows.shape = (1501, 4096)\n",
      "windows.shape = (2122, 4096)\n",
      "windows.shape = (2282, 4096)\n",
      "windows.shape = (2079, 4096)\n",
      "windows.shape = (2027, 4096)\n",
      "windows.shape = (2540, 4096)\n",
      "windows.shape = (2540, 4096)\n"
     ]
    }
   ],
   "source": [
    "for participant, (windows, targets) in data_by_participant.items():\n",
    "    print(f\"windows.shape = {windows.shape}\")\n",
    "#     df[columns] = np.concatenate(())\n",
    "    \n",
    "    \n"
   ]
  },
  {
   "cell_type": "markdown",
   "id": "ba0968b6",
   "metadata": {},
   "source": [
    "## Scratch\n"
   ]
  },
  {
   "cell_type": "code",
   "execution_count": 48,
   "id": "8527fa21",
   "metadata": {},
   "outputs": [
    {
     "name": "stdout",
     "output_type": "stream",
     "text": [
      "name = A\n",
      "these_reps = [0 1 2 3 4 5]\n",
      "these_vals = [0 1 2 3 4 5]\n",
      "name = B\n",
      "these_reps = [0 1 2 3]\n",
      "these_vals = [0 1 2 3]\n",
      "name = C\n",
      "these_reps = [0 1 2 3 4 5]\n",
      "these_vals = [0 1 2 3 4 5]\n"
     ]
    },
    {
     "data": {
      "text/html": [
       "<div>\n",
       "<style scoped>\n",
       "    .dataframe tbody tr th:only-of-type {\n",
       "        vertical-align: middle;\n",
       "    }\n",
       "\n",
       "    .dataframe tbody tr th {\n",
       "        vertical-align: top;\n",
       "    }\n",
       "\n",
       "    .dataframe thead th {\n",
       "        text-align: right;\n",
       "    }\n",
       "</style>\n",
       "<table border=\"1\" class=\"dataframe\">\n",
       "  <thead>\n",
       "    <tr style=\"text-align: right;\">\n",
       "      <th></th>\n",
       "      <th>name</th>\n",
       "      <th>repetition</th>\n",
       "      <th>v0</th>\n",
       "      <th>v1</th>\n",
       "      <th>v2</th>\n",
       "      <th>v3</th>\n",
       "    </tr>\n",
       "  </thead>\n",
       "  <tbody>\n",
       "    <tr>\n",
       "      <th>0</th>\n",
       "      <td>A</td>\n",
       "      <td>0</td>\n",
       "      <td>0.777972</td>\n",
       "      <td>0.037385</td>\n",
       "      <td>0.606725</td>\n",
       "      <td>0.386934</td>\n",
       "    </tr>\n",
       "    <tr>\n",
       "      <th>1</th>\n",
       "      <td>A</td>\n",
       "      <td>1</td>\n",
       "      <td>0.257725</td>\n",
       "      <td>0.468920</td>\n",
       "      <td>0.408677</td>\n",
       "      <td>0.329074</td>\n",
       "    </tr>\n",
       "    <tr>\n",
       "      <th>2</th>\n",
       "      <td>A</td>\n",
       "      <td>2</td>\n",
       "      <td>0.609895</td>\n",
       "      <td>0.718251</td>\n",
       "      <td>0.115921</td>\n",
       "      <td>0.816767</td>\n",
       "    </tr>\n",
       "    <tr>\n",
       "      <th>3</th>\n",
       "      <td>A</td>\n",
       "      <td>3</td>\n",
       "      <td>0.148141</td>\n",
       "      <td>0.013138</td>\n",
       "      <td>0.088363</td>\n",
       "      <td>0.215055</td>\n",
       "    </tr>\n",
       "    <tr>\n",
       "      <th>4</th>\n",
       "      <td>A</td>\n",
       "      <td>4</td>\n",
       "      <td>0.243417</td>\n",
       "      <td>0.040532</td>\n",
       "      <td>0.965420</td>\n",
       "      <td>0.806360</td>\n",
       "    </tr>\n",
       "    <tr>\n",
       "      <th>5</th>\n",
       "      <td>A</td>\n",
       "      <td>5</td>\n",
       "      <td>0.534676</td>\n",
       "      <td>0.443510</td>\n",
       "      <td>0.963309</td>\n",
       "      <td>0.195963</td>\n",
       "    </tr>\n",
       "    <tr>\n",
       "      <th>0</th>\n",
       "      <td>B</td>\n",
       "      <td>0</td>\n",
       "      <td>0.540059</td>\n",
       "      <td>0.617059</td>\n",
       "      <td>0.702793</td>\n",
       "      <td>0.324715</td>\n",
       "    </tr>\n",
       "    <tr>\n",
       "      <th>1</th>\n",
       "      <td>B</td>\n",
       "      <td>1</td>\n",
       "      <td>0.414681</td>\n",
       "      <td>0.649826</td>\n",
       "      <td>0.121505</td>\n",
       "      <td>0.895949</td>\n",
       "    </tr>\n",
       "    <tr>\n",
       "      <th>2</th>\n",
       "      <td>B</td>\n",
       "      <td>2</td>\n",
       "      <td>0.466398</td>\n",
       "      <td>0.659145</td>\n",
       "      <td>0.390953</td>\n",
       "      <td>0.608360</td>\n",
       "    </tr>\n",
       "    <tr>\n",
       "      <th>3</th>\n",
       "      <td>B</td>\n",
       "      <td>3</td>\n",
       "      <td>0.066566</td>\n",
       "      <td>0.196813</td>\n",
       "      <td>0.084975</td>\n",
       "      <td>0.508694</td>\n",
       "    </tr>\n",
       "    <tr>\n",
       "      <th>0</th>\n",
       "      <td>C</td>\n",
       "      <td>0</td>\n",
       "      <td>0.465036</td>\n",
       "      <td>0.606068</td>\n",
       "      <td>0.684259</td>\n",
       "      <td>0.803542</td>\n",
       "    </tr>\n",
       "    <tr>\n",
       "      <th>1</th>\n",
       "      <td>C</td>\n",
       "      <td>1</td>\n",
       "      <td>0.893087</td>\n",
       "      <td>0.134086</td>\n",
       "      <td>0.644118</td>\n",
       "      <td>0.523043</td>\n",
       "    </tr>\n",
       "    <tr>\n",
       "      <th>2</th>\n",
       "      <td>C</td>\n",
       "      <td>2</td>\n",
       "      <td>0.614037</td>\n",
       "      <td>0.969623</td>\n",
       "      <td>0.574467</td>\n",
       "      <td>0.609115</td>\n",
       "    </tr>\n",
       "    <tr>\n",
       "      <th>3</th>\n",
       "      <td>C</td>\n",
       "      <td>3</td>\n",
       "      <td>0.194080</td>\n",
       "      <td>0.652075</td>\n",
       "      <td>0.936385</td>\n",
       "      <td>0.328849</td>\n",
       "    </tr>\n",
       "    <tr>\n",
       "      <th>4</th>\n",
       "      <td>C</td>\n",
       "      <td>4</td>\n",
       "      <td>0.690372</td>\n",
       "      <td>0.259789</td>\n",
       "      <td>0.616730</td>\n",
       "      <td>0.325217</td>\n",
       "    </tr>\n",
       "    <tr>\n",
       "      <th>5</th>\n",
       "      <td>C</td>\n",
       "      <td>5</td>\n",
       "      <td>0.828339</td>\n",
       "      <td>0.566125</td>\n",
       "      <td>0.299280</td>\n",
       "      <td>0.402620</td>\n",
       "    </tr>\n",
       "  </tbody>\n",
       "</table>\n",
       "</div>"
      ],
      "text/plain": [
       "  name repetition        v0        v1        v2        v3\n",
       "0    A          0  0.777972  0.037385  0.606725  0.386934\n",
       "1    A          1  0.257725  0.468920  0.408677  0.329074\n",
       "2    A          2  0.609895  0.718251  0.115921  0.816767\n",
       "3    A          3  0.148141  0.013138  0.088363  0.215055\n",
       "4    A          4  0.243417  0.040532  0.965420  0.806360\n",
       "5    A          5  0.534676  0.443510  0.963309  0.195963\n",
       "0    B          0  0.540059  0.617059  0.702793  0.324715\n",
       "1    B          1  0.414681  0.649826  0.121505  0.895949\n",
       "2    B          2  0.466398  0.659145  0.390953  0.608360\n",
       "3    B          3  0.066566  0.196813  0.084975  0.508694\n",
       "0    C          0  0.465036  0.606068  0.684259  0.803542\n",
       "1    C          1  0.893087  0.134086  0.644118  0.523043\n",
       "2    C          2  0.614037  0.969623  0.574467  0.609115\n",
       "3    C          3  0.194080  0.652075  0.936385  0.328849\n",
       "4    C          4  0.690372  0.259789  0.616730  0.325217\n",
       "5    C          5  0.828339  0.566125  0.299280  0.402620"
      ]
     },
     "execution_count": 48,
     "metadata": {},
     "output_type": "execute_result"
    }
   ],
   "source": [
    "import pandas as pd\n",
    "import numpy as np\n",
    "\n",
    "# here I create some dummy data\n",
    "Nmin = 3\n",
    "Nmax = 7\n",
    "K= 4\n",
    "columns = ['name', 'repetition'] + [f'v{k}' for k in range(K)]\n",
    "names = ['A', 'B', 'C']\n",
    "Ns = {name: np.random.randint(Nmin, Nmax) for name in names}\n",
    "repetitions = {name:np.arange(Ns[name]) for name in names}\n",
    "values = {name:np.random.random((Ns[name],K)) for name in names}\n",
    "values\n",
    "\n",
    "# here I try to load this into a dataframe\n",
    "df = pd.DataFrame(columns=columns)\n",
    "for name in names:\n",
    "    these_reps = repetitions[name]\n",
    "    these_vals = values[name]\n",
    "    this_N = these_reps.size\n",
    "    these_names = [name]*this_N\n",
    "    this_df = pd.DataFrame(zip(these_names,these_reps,*these_vals.T.tolist()), columns=columns)\n",
    "    df = pd.concat([df,this_df])\n",
    "\n",
    "    \n",
    "df"
   ]
  },
  {
   "cell_type": "code",
   "execution_count": 37,
   "id": "004d1eda",
   "metadata": {},
   "outputs": [
    {
     "data": {
      "text/plain": [
       "[('A',\n",
       "  0,\n",
       "  0.41916181410752085,\n",
       "  0.6722555947340101,\n",
       "  0.32002860901165553,\n",
       "  0.7752939637710894),\n",
       " ('A',\n",
       "  1,\n",
       "  0.38749618002287045,\n",
       "  0.057824590268022114,\n",
       "  0.13964836151099946,\n",
       "  0.6365815198921404),\n",
       " ('A',\n",
       "  2,\n",
       "  0.5784527837930871,\n",
       "  0.18168800099247595,\n",
       "  0.22842628866182835,\n",
       "  0.0363978511848434),\n",
       " ('A',\n",
       "  3,\n",
       "  0.9881583967447886,\n",
       "  0.11907916678581865,\n",
       "  0.044133300678206866,\n",
       "  0.986112352206504),\n",
       " ('A',\n",
       "  4,\n",
       "  0.6371491161141503,\n",
       "  0.05238629505234749,\n",
       "  0.20810788842962258,\n",
       "  0.7995375692784328)]"
      ]
     },
     "execution_count": 37,
     "metadata": {},
     "output_type": "execute_result"
    }
   ],
   "source": [
    "list(zip(these_names,these_reps,*these_vals.T.tolist()))"
   ]
  },
  {
   "cell_type": "code",
   "execution_count": 39,
   "id": "3c5ce7ae",
   "metadata": {},
   "outputs": [
    {
     "data": {
      "text/plain": [
       "['name', 'repetition', 'v0', 'v1', 'v2', 'v3']"
      ]
     },
     "execution_count": 39,
     "metadata": {},
     "output_type": "execute_result"
    }
   ],
   "source": [
    "columns"
   ]
  },
  {
   "cell_type": "code",
   "execution_count": null,
   "id": "cd471053",
   "metadata": {},
   "outputs": [],
   "source": []
  }
 ],
 "metadata": {
  "kernelspec": {
   "display_name": "Python 3 (ipykernel)",
   "language": "python",
   "name": "python3"
  },
  "language_info": {
   "codemirror_mode": {
    "name": "ipython",
    "version": 3
   },
   "file_extension": ".py",
   "mimetype": "text/x-python",
   "name": "python",
   "nbconvert_exporter": "python",
   "pygments_lexer": "ipython3",
   "version": "3.10.12"
  }
 },
 "nbformat": 4,
 "nbformat_minor": 5
}
