{
 "cells": [
  {
   "cell_type": "code",
   "execution_count": 1,
   "id": "44acde52",
   "metadata": {},
   "outputs": [],
   "source": [
    "import pandas as pd\n",
    "import numpy as np\n",
    "import matplotlib.pyplot as plt\n",
    "import os\n",
    "import copy\n",
    "\n"
   ]
  },
  {
   "cell_type": "code",
   "execution_count": 2,
   "id": "832db706",
   "metadata": {},
   "outputs": [
    {
     "name": "stdout",
     "output_type": "stream",
     "text": [
      "thisdir = /home/luke/git/external/predicament/notebooks\n",
      "Adding parent directory to python path\n",
      "sys.path =\n",
      "['/home/luke/git/external/predicament/notebooks', '/home/luke/git/external/predicament', '/usr/lib/python310.zip', '/usr/lib/python3.10', '/usr/lib/python3.10/lib-dynload', '', '/home/luke/.local/lib/python3.10/site-packages', '/usr/local/lib/python3.10/dist-packages', '/usr/lib/python3/dist-packages', '/usr/lib/python3.10/dist-packages']\n"
     ]
    }
   ],
   "source": [
    "# This is a hack to make the library in the parent folder available for imoprts\n",
    "# A better solution is by np8 here:\n",
    "# https://stackoverflow.com/questions/714063/importing-modules-from-parent-folder\n",
    "import sys\n",
    "import os\n",
    "import inspect\n",
    "\n",
    "thisdir = sys.path[0]\n",
    "print(f\"thisdir = {thisdir}\")\n",
    "parentdir = os.path.dirname(thisdir)\n",
    "#print(f\"parentdir = {parentdir}\")\n",
    "if not parentdir in sys.path:\n",
    "    print(\"Adding parent directory to python path\")\n",
    "    sys.path.insert(1, parentdir)\n",
    "else:\n",
    "    print(\"Skipping adding parent direct to path (there already)\")\n",
    "\n",
    "print(f\"sys.path =\\n{sys.path}\")\n",
    "\n"
   ]
  },
  {
   "cell_type": "code",
   "execution_count": 3,
   "id": "28f17581",
   "metadata": {},
   "outputs": [],
   "source": [
    "## ensure relative path to data directory is sound\n",
    "# for the notebook we need to modify the BASE_DATA_FOLDER\n",
    "import os \n",
    "os.environ['PREDICAMENT_DATA_DIR'] =  '../data'"
   ]
  },
  {
   "cell_type": "code",
   "execution_count": 4,
   "id": "bd724667",
   "metadata": {},
   "outputs": [],
   "source": [
    "# local imports\n",
    "from predicament.utils.file_utils import load_featured_dataframe_and_config\n",
    "from predicament.utils.file_utils import write_featured_dataframe_and_config\n"
   ]
  },
  {
   "cell_type": "code",
   "execution_count": 5,
   "id": "dd59ac93",
   "metadata": {},
   "outputs": [
    {
     "name": "stdout",
     "output_type": "stream",
     "text": [
      "core_subdir = dreem_4secs\n",
      "norm_subdir = dreem_4secs\n",
      "new_subdir = dreem_4secs_standardised\n"
     ]
    }
   ],
   "source": [
    "# input parameters\n",
    "core_subdir = 'dreem_4secs' # dataset\n",
    "# norm_subdir = 'baseline_'+core_subdir # dataset of standardising statistics\n",
    "norm_subdir = core_subdir # dataset of standardising statistics\n",
    "new_subdir = core_subdir + '_standardised'\n",
    "std_group = 'participant'\n",
    "\n",
    "print(f\"core_subdir = {core_subdir}\")\n",
    "print(f\"norm_subdir = {norm_subdir}\")\n",
    "print(f\"new_subdir = {new_subdir}\")"
   ]
  },
  {
   "cell_type": "markdown",
   "id": "015e1a17",
   "metadata": {},
   "source": [
    "## Load  data\n",
    "Both the core data and the data for deriving the statistics for standardisation.\n"
   ]
  },
  {
   "cell_type": "code",
   "execution_count": 6,
   "id": "45e1ae95",
   "metadata": {},
   "outputs": [],
   "source": [
    "core_df, core_config = load_featured_dataframe_and_config(\n",
    "    core_subdir)\n",
    "norm_df, norm_config = load_featured_dataframe_and_config(\n",
    "    norm_subdir)\n"
   ]
  },
  {
   "cell_type": "code",
   "execution_count": 7,
   "id": "b34867ae",
   "metadata": {},
   "outputs": [
    {
     "name": "stdout",
     "output_type": "stream",
     "text": [
      "core_config:\n",
      "{'DEFAULT': {}, 'LOAD': {'participant_list': ['VG_01', 'VG_02', 'VG_03', 'VG_05', 'VG_06', 'VG_07', 'VG_08', 'VG_09', 'VG_10', 'VH_01', 'VH_02', 'VH_03'], 'conditions': ['exper_video', 'wildlife_video', 'familiar_music', 'tchaikovsky', 'family_inter'], 'channels': ['EEG Fpz-O1', 'EEG Fpz-O2', 'EEG Fpz-F7', 'EEG Fpz-F8'], 'n_channels': 4, 'sample_rate': 250, 'label_mapping': ['exper_video', 'familiar_music', 'family_inter', 'tchaikovsky', 'wildlife_video'], 'data_format': 'dreem'}, 'WINDOWED': {'group_col': 'participant', 'target_col': 'condition', 'label_cols': ['participant', 'condition', 'window index'], 'window_size': 1024, 'window_step': 128}, 'FEATURED': {'feature_set': ['SD', 'IQR', 'SampleEntropy', 'Hurst', 'Min', 'Mean', 'Correlation', 'arCoeff', 'MeanFreq', 'LempelZivComplexity', 'FreqKurtosis', 'LempelZivEntropy', 'Energy', 'MAD', 'FreqSkewness', 'Max', 'LyapunovExponent', 'MaxFreqInd'], 'feature_names': ['LempelZivComplexity[b=1]', 'SD2', 'arCoeff10', 'Correlation0', 'FreqSkewness1', 'arCoeff12', 'IQR1', 'arCoeff4', 'FreqKurtosis0', 'MeanFreq3', 'Min3', 'MAD0', 'arCoeff7', 'LempelZivEntropy[b=1][3]', 'MeanFreq0', 'SampleEntropy[m=2][3]', 'arCoeff5', 'arCoeff2', 'Hurst_H1', 'Energy2', 'MaxFreqInd3', 'arCoeff1', 'FreqKurtosis3', 'SD0', 'Correlation3', 'Min0', 'arCoeff3', 'FreqSkewness3', 'arCoeff14', 'Energy3', 'MAD1', 'FreqKurtosis2', 'Energy0', 'SD3', 'LempelZivEntropy[b=4][0]', 'MaxFreqInd0', 'LempelZivEntropy[b=4][2]', 'FreqKurtosis1', 'LempelZivComplexity[b=4]', 'Hurst_H0', 'LempelZivEntropy[b=4][1]', 'Hurst_C3', 'LyapunovExponent2', 'Hurst_H3', 'Hurst_C1', 'LyapunovExponent0', 'IQR3', 'Energy1', 'SampleEntropy[m=2][0]', 'Correlation2', 'arCoeff15', 'LempelZivComplexity[b=8]', 'LyapunovExponent1', 'LempelZivEntropy[b=1][0]', 'MaxFreqInd2', 'Max2', 'Correlation5', 'MeanFreq1', 'LempelZivEntropy[b=1][2]', 'LempelZivEntropy[b=1][1]', 'IQR0', 'arCoeff11', 'Mean0', 'SampleEntropy[m=2][2]', 'LempelZivEntropy[b=4][3]', 'Hurst_C2', 'Correlation4', 'Max3', 'MaxFreqInd1', 'Min2', 'IQR2', 'arCoeff9', 'LyapunovExponent3', 'MeanFreq2', 'LempelZivComplexity[b=2]', 'arCoeff0', 'SD1', 'FreqSkewness2', 'Hurst_H2', 'Mean3', 'Hurst_C0', 'Mean1', 'Correlation1', 'Min1', 'Max0', 'MAD3', 'Mean2', 'arCoeff8', 'MAD2', 'SampleEntropy[m=2][1]', 'arCoeff13', 'arCoeff6', 'Max1', 'FreqSkewness0'], 'removed_features': []}}\n",
      "\n",
      "\n",
      "norm_config:\n",
      "{'DEFAULT': {}, 'LOAD': {'participant_list': ['VG_01', 'VG_02', 'VG_03', 'VG_05', 'VG_06', 'VG_07', 'VG_08', 'VG_09', 'VG_10', 'VH_01', 'VH_02', 'VH_03'], 'conditions': ['exper_video', 'wildlife_video', 'familiar_music', 'tchaikovsky', 'family_inter'], 'channels': ['EEG Fpz-O1', 'EEG Fpz-O2', 'EEG Fpz-F7', 'EEG Fpz-F8'], 'n_channels': 4, 'sample_rate': 250, 'label_mapping': ['exper_video', 'familiar_music', 'family_inter', 'tchaikovsky', 'wildlife_video'], 'data_format': 'dreem'}, 'WINDOWED': {'group_col': 'participant', 'target_col': 'condition', 'label_cols': ['participant', 'condition', 'window index'], 'window_size': 1024, 'window_step': 128}, 'FEATURED': {'feature_set': ['SD', 'IQR', 'SampleEntropy', 'Hurst', 'Min', 'Mean', 'Correlation', 'arCoeff', 'MeanFreq', 'LempelZivComplexity', 'FreqKurtosis', 'LempelZivEntropy', 'Energy', 'MAD', 'FreqSkewness', 'Max', 'LyapunovExponent', 'MaxFreqInd'], 'feature_names': ['LempelZivComplexity[b=1]', 'SD2', 'arCoeff10', 'Correlation0', 'FreqSkewness1', 'arCoeff12', 'IQR1', 'arCoeff4', 'FreqKurtosis0', 'MeanFreq3', 'Min3', 'MAD0', 'arCoeff7', 'LempelZivEntropy[b=1][3]', 'MeanFreq0', 'SampleEntropy[m=2][3]', 'arCoeff5', 'arCoeff2', 'Hurst_H1', 'Energy2', 'MaxFreqInd3', 'arCoeff1', 'FreqKurtosis3', 'SD0', 'Correlation3', 'Min0', 'arCoeff3', 'FreqSkewness3', 'arCoeff14', 'Energy3', 'MAD1', 'FreqKurtosis2', 'Energy0', 'SD3', 'LempelZivEntropy[b=4][0]', 'MaxFreqInd0', 'LempelZivEntropy[b=4][2]', 'FreqKurtosis1', 'LempelZivComplexity[b=4]', 'Hurst_H0', 'LempelZivEntropy[b=4][1]', 'Hurst_C3', 'LyapunovExponent2', 'Hurst_H3', 'Hurst_C1', 'LyapunovExponent0', 'IQR3', 'Energy1', 'SampleEntropy[m=2][0]', 'Correlation2', 'arCoeff15', 'LempelZivComplexity[b=8]', 'LyapunovExponent1', 'LempelZivEntropy[b=1][0]', 'MaxFreqInd2', 'Max2', 'Correlation5', 'MeanFreq1', 'LempelZivEntropy[b=1][2]', 'LempelZivEntropy[b=1][1]', 'IQR0', 'arCoeff11', 'Mean0', 'SampleEntropy[m=2][2]', 'LempelZivEntropy[b=4][3]', 'Hurst_C2', 'Correlation4', 'Max3', 'MaxFreqInd1', 'Min2', 'IQR2', 'arCoeff9', 'LyapunovExponent3', 'MeanFreq2', 'LempelZivComplexity[b=2]', 'arCoeff0', 'SD1', 'FreqSkewness2', 'Hurst_H2', 'Mean3', 'Hurst_C0', 'Mean1', 'Correlation1', 'Min1', 'Max0', 'MAD3', 'Mean2', 'arCoeff8', 'MAD2', 'SampleEntropy[m=2][1]', 'arCoeff13', 'arCoeff6', 'Max1', 'FreqSkewness0'], 'removed_features': []}}\n",
      "\n",
      "\n"
     ]
    }
   ],
   "source": [
    "print(f\"core_config:\\n{core_config}\\n\\n\")\n",
    "print(f\"norm_config:\\n{norm_config}\\n\\n\")"
   ]
  },
  {
   "cell_type": "code",
   "execution_count": 8,
   "id": "bf468030",
   "metadata": {},
   "outputs": [],
   "source": [
    "MUST_BE_EQUAL = {}\n",
    "MUST_BE_EQUAL['LOAD'] = [\n",
    "    'data_format', 'n_channels', 'channels',\n",
    "    'participant_list', 'sample_rate'\n",
    "]\n",
    "MUST_BE_EQUAL['WINDOWED'] = [\n",
    "    'window_size', 'window_step', 'group_col']\n",
    "\n",
    "\n",
    "def check_data_compatible(\n",
    "        core_config, norm_config, must_be_equal=MUST_BE_EQUAL):\n",
    "    for section in must_be_equal.keys():\n",
    "        for term in must_be_equal[section]:\n",
    "            core_val = core_config[section][term]\n",
    "            norm_val = norm_config[section][term]\n",
    "            type_ = type(core_val)\n",
    "            err_msg = f\"config[{section}][{term}] not equal\"\n",
    "            assert type_ == type(norm_val)\n",
    "            if type_ is list:\n",
    "                assert np.all([\n",
    "                    e1 == e2 for e1, e2 in zip(core_val, norm_val)]), err_msg\n",
    "            elif type_ is float:\n",
    "                np.testing.assert_almost_equal(\n",
    "                    core_val, norm_val,\n",
    "                    err_msg=err_msg)\n",
    "            else:\n",
    "                assert core_val == norm_val, err_msg\n",
    "\n",
    "                "
   ]
  },
  {
   "cell_type": "code",
   "execution_count": 9,
   "id": "e8af889c",
   "metadata": {},
   "outputs": [],
   "source": [
    "check_data_compatible(core_config, norm_config)"
   ]
  },
  {
   "cell_type": "code",
   "execution_count": 10,
   "id": "bccea7a6",
   "metadata": {},
   "outputs": [
    {
     "name": "stdout",
     "output_type": "stream",
     "text": [
      "core_feature_names: ['Correlation0', 'Correlation1', 'Correlation2', 'Correlation3', 'Correlation4', 'Correlation5', 'Energy0', 'Energy1', 'Energy2', 'Energy3', 'FreqKurtosis0', 'FreqKurtosis1', 'FreqKurtosis2', 'FreqKurtosis3', 'FreqSkewness0', 'FreqSkewness1', 'FreqSkewness2', 'FreqSkewness3', 'Hurst_C0', 'Hurst_C1', 'Hurst_C2', 'Hurst_C3', 'Hurst_H0', 'Hurst_H1', 'Hurst_H2', 'Hurst_H3', 'IQR0', 'IQR1', 'IQR2', 'IQR3', 'LempelZivComplexity[b=1]', 'LempelZivComplexity[b=2]', 'LempelZivComplexity[b=4]', 'LempelZivComplexity[b=8]', 'LempelZivEntropy[b=1][0]', 'LempelZivEntropy[b=1][1]', 'LempelZivEntropy[b=1][2]', 'LempelZivEntropy[b=1][3]', 'LempelZivEntropy[b=4][0]', 'LempelZivEntropy[b=4][1]', 'LempelZivEntropy[b=4][2]', 'LempelZivEntropy[b=4][3]', 'LyapunovExponent0', 'LyapunovExponent1', 'LyapunovExponent2', 'LyapunovExponent3', 'MAD0', 'MAD1', 'MAD2', 'MAD3', 'Max0', 'Max1', 'Max2', 'Max3', 'MaxFreqInd0', 'MaxFreqInd1', 'MaxFreqInd2', 'MaxFreqInd3', 'Mean0', 'Mean1', 'Mean2', 'Mean3', 'MeanFreq0', 'MeanFreq1', 'MeanFreq2', 'MeanFreq3', 'Min0', 'Min1', 'Min2', 'Min3', 'SD0', 'SD1', 'SD2', 'SD3', 'SampleEntropy[m=2][0]', 'SampleEntropy[m=2][1]', 'SampleEntropy[m=2][2]', 'SampleEntropy[m=2][3]', 'arCoeff0', 'arCoeff1', 'arCoeff10', 'arCoeff11', 'arCoeff12', 'arCoeff13', 'arCoeff14', 'arCoeff15', 'arCoeff2', 'arCoeff3', 'arCoeff4', 'arCoeff5', 'arCoeff6', 'arCoeff7', 'arCoeff8', 'arCoeff9']\n",
      "norm_feature_names: ['Correlation0', 'Correlation1', 'Correlation2', 'Correlation3', 'Correlation4', 'Correlation5', 'Energy0', 'Energy1', 'Energy2', 'Energy3', 'FreqKurtosis0', 'FreqKurtosis1', 'FreqKurtosis2', 'FreqKurtosis3', 'FreqSkewness0', 'FreqSkewness1', 'FreqSkewness2', 'FreqSkewness3', 'Hurst_C0', 'Hurst_C1', 'Hurst_C2', 'Hurst_C3', 'Hurst_H0', 'Hurst_H1', 'Hurst_H2', 'Hurst_H3', 'IQR0', 'IQR1', 'IQR2', 'IQR3', 'LempelZivComplexity[b=1]', 'LempelZivComplexity[b=2]', 'LempelZivComplexity[b=4]', 'LempelZivComplexity[b=8]', 'LempelZivEntropy[b=1][0]', 'LempelZivEntropy[b=1][1]', 'LempelZivEntropy[b=1][2]', 'LempelZivEntropy[b=1][3]', 'LempelZivEntropy[b=4][0]', 'LempelZivEntropy[b=4][1]', 'LempelZivEntropy[b=4][2]', 'LempelZivEntropy[b=4][3]', 'LyapunovExponent0', 'LyapunovExponent1', 'LyapunovExponent2', 'LyapunovExponent3', 'MAD0', 'MAD1', 'MAD2', 'MAD3', 'Max0', 'Max1', 'Max2', 'Max3', 'MaxFreqInd0', 'MaxFreqInd1', 'MaxFreqInd2', 'MaxFreqInd3', 'Mean0', 'Mean1', 'Mean2', 'Mean3', 'MeanFreq0', 'MeanFreq1', 'MeanFreq2', 'MeanFreq3', 'Min0', 'Min1', 'Min2', 'Min3', 'SD0', 'SD1', 'SD2', 'SD3', 'SampleEntropy[m=2][0]', 'SampleEntropy[m=2][1]', 'SampleEntropy[m=2][2]', 'SampleEntropy[m=2][3]', 'arCoeff0', 'arCoeff1', 'arCoeff10', 'arCoeff11', 'arCoeff12', 'arCoeff13', 'arCoeff14', 'arCoeff15', 'arCoeff2', 'arCoeff3', 'arCoeff4', 'arCoeff5', 'arCoeff6', 'arCoeff7', 'arCoeff8', 'arCoeff9']\n",
      "new_feature_set: ['Correlation', 'Energy', 'FreqKurtosis', 'FreqSkewness', 'Hurst', 'IQR', 'LempelZivComplexity', 'LempelZivEntropy', 'LyapunovExponent', 'MAD', 'Max', 'MaxFreqInd', 'Mean', 'MeanFreq', 'Min', 'SD', 'SampleEntropy', 'arCoeff']\n",
      "new_feature_names: ['Correlation0', 'Correlation1', 'Correlation2', 'Correlation3', 'Correlation4', 'Correlation5', 'Energy0', 'Energy1', 'Energy2', 'Energy3', 'FreqKurtosis0', 'FreqKurtosis1', 'FreqKurtosis2', 'FreqKurtosis3', 'FreqSkewness0', 'FreqSkewness1', 'FreqSkewness2', 'FreqSkewness3', 'Hurst_C0', 'Hurst_C1', 'Hurst_C2', 'Hurst_C3', 'Hurst_H0', 'Hurst_H1', 'Hurst_H2', 'Hurst_H3', 'IQR0', 'IQR1', 'IQR2', 'IQR3', 'LempelZivComplexity[b=1]', 'LempelZivComplexity[b=2]', 'LempelZivComplexity[b=4]', 'LempelZivComplexity[b=8]', 'LempelZivEntropy[b=1][0]', 'LempelZivEntropy[b=1][1]', 'LempelZivEntropy[b=1][2]', 'LempelZivEntropy[b=1][3]', 'LempelZivEntropy[b=4][0]', 'LempelZivEntropy[b=4][1]', 'LempelZivEntropy[b=4][2]', 'LempelZivEntropy[b=4][3]', 'LyapunovExponent0', 'LyapunovExponent1', 'LyapunovExponent2', 'LyapunovExponent3', 'MAD0', 'MAD1', 'MAD2', 'MAD3', 'Max0', 'Max1', 'Max2', 'Max3', 'MaxFreqInd0', 'MaxFreqInd1', 'MaxFreqInd2', 'MaxFreqInd3', 'Mean0', 'Mean1', 'Mean2', 'Mean3', 'MeanFreq0', 'MeanFreq1', 'MeanFreq2', 'MeanFreq3', 'Min0', 'Min1', 'Min2', 'Min3', 'SD0', 'SD1', 'SD2', 'SD3', 'SampleEntropy[m=2][0]', 'SampleEntropy[m=2][1]', 'SampleEntropy[m=2][2]', 'SampleEntropy[m=2][3]', 'arCoeff0', 'arCoeff1', 'arCoeff10', 'arCoeff11', 'arCoeff12', 'arCoeff13', 'arCoeff14', 'arCoeff15', 'arCoeff2', 'arCoeff3', 'arCoeff4', 'arCoeff5', 'arCoeff6', 'arCoeff7', 'arCoeff8', 'arCoeff9']\n",
      "dropped_feature_names: []\n"
     ]
    }
   ],
   "source": [
    "core_feature_set = core_config['FEATURED']['feature_set']\n",
    "core_feature_names = core_config['FEATURED']['feature_names'] \n",
    "core_feature_names.sort()\n",
    "print(f\"core_feature_names: {core_feature_names}\")\n",
    "norm_feature_set = norm_config['FEATURED']['feature_set']\n",
    "norm_feature_names = norm_config['FEATURED']['feature_names'] \n",
    "norm_feature_names.sort()\n",
    "print(f\"norm_feature_names: {norm_feature_names}\")\n",
    "\n",
    "new_feature_set = list(\n",
    "    set(core_feature_set).intersection(set(norm_feature_set)))\n",
    "new_feature_set.sort()\n",
    "new_feature_names = list(\n",
    "    set(core_feature_names).intersection(set(norm_feature_names)))\n",
    "new_feature_names.sort()\n",
    "\n",
    "dropped_feature_names = list(\n",
    "    set(core_feature_names) - set(new_feature_names))\n",
    "dropped_feature_names.sort()\n",
    "print(f\"new_feature_set: {new_feature_set}\")\n",
    "print(f\"new_feature_names: {new_feature_names}\")\n",
    "print(f\"dropped_feature_names: {dropped_feature_names}\")\n",
    "\n",
    "new_df = core_df\n",
    "new_df.drop(columns=dropped_feature_names, inplace=True)\n"
   ]
  },
  {
   "cell_type": "code",
   "execution_count": 11,
   "id": "db39e723",
   "metadata": {},
   "outputs": [
    {
     "data": {
      "text/plain": [
       "array(['VG_01', 'VG_02', 'VG_03', 'VG_05', 'VG_06', 'VG_07', 'VG_08',\n",
       "       'VG_09', 'VG_10', 'VH_01', 'VH_02', 'VH_03'], dtype=object)"
      ]
     },
     "execution_count": 11,
     "metadata": {},
     "output_type": "execute_result"
    }
   ],
   "source": [
    "new_df['participant'].unique()"
   ]
  },
  {
   "cell_type": "code",
   "execution_count": 12,
   "id": "774813c9",
   "metadata": {},
   "outputs": [
    {
     "data": {
      "text/plain": [
       "array(['VG_01', 'VG_02', 'VG_03', 'VG_05', 'VG_06', 'VG_07', 'VG_08',\n",
       "       'VG_09', 'VG_10', 'VH_01', 'VH_02', 'VH_03'], dtype=object)"
      ]
     },
     "execution_count": 12,
     "metadata": {},
     "output_type": "execute_result"
    }
   ],
   "source": [
    "norm_df['participant'].unique()"
   ]
  },
  {
   "cell_type": "code",
   "execution_count": 13,
   "id": "5db080d8",
   "metadata": {},
   "outputs": [
    {
     "name": "stdout",
     "output_type": "stream",
     "text": [
      "Mean DataFrame:\n",
      "   participant  Correlation0  Correlation1  Correlation2  Correlation3  \\\n",
      "0        VG_01      0.416371      0.476369      0.040664      0.142180   \n",
      "1        VG_02      0.618519      0.875133      0.783268      0.438816   \n",
      "2        VG_03      0.523860      0.321925     -0.002162      0.155433   \n",
      "3        VG_05      0.414641      0.057226      0.102577      0.038978   \n",
      "4        VG_06      0.139917     -0.036184      0.209268     -0.037422   \n",
      "5        VG_07      0.403612      0.174780      0.030629      0.062062   \n",
      "6        VG_08      0.053946      0.068781      0.255571     -0.182758   \n",
      "7        VG_09      0.725158      0.216513      0.126458      0.128028   \n",
      "8        VG_10      0.157625      0.076887      0.055820      0.165956   \n",
      "9        VH_01      0.145285      0.124469      0.026162      0.011797   \n",
      "10       VH_02      0.722193      0.247236      0.222250      0.187373   \n",
      "11       VH_03      0.781503      0.276526      0.039807      0.227147   \n",
      "\n",
      "    Correlation4  Correlation5       Energy0       Energy1       Energy2  ...  \\\n",
      "0       0.082324     -0.068724  1.461115e-09  1.975860e-08  2.187686e-10  ...   \n",
      "1       0.424941      0.850694  2.596963e-08  2.326217e-08  2.624944e-08  ...   \n",
      "2       0.032125      0.095068  3.411224e-09  9.745736e-09  1.531202e-09  ...   \n",
      "3       0.104229     -0.329197  2.049118e-08  1.004473e-08  4.951396e-10  ...   \n",
      "4       0.072707     -0.336728  6.370617e-09  1.698779e-07  1.927697e-10  ...   \n",
      "5       0.073442      0.228723  4.866457e-08  7.586790e-08  3.113714e-08  ...   \n",
      "6       0.029557     -0.056582  5.870811e-09  8.927000e-08  1.983242e-09  ...   \n",
      "7       0.144180     -0.112446  2.169533e-09  2.449302e-09  2.647863e-10  ...   \n",
      "8       0.032263     -0.655145  7.593108e-09  3.808260e-09  9.115825e-10  ...   \n",
      "9       0.106756     -0.436180  2.155405e-08  2.658657e-08  4.994449e-10  ...   \n",
      "10      0.224877     -0.063228  7.375727e-09  5.751948e-09  2.882466e-09  ...   \n",
      "11      0.210432     -0.238989  2.600904e-09  3.058003e-09  1.850069e-09  ...   \n",
      "\n",
      "    arCoeff14  arCoeff15      arCoeff2      arCoeff3  arCoeff4  arCoeff5  \\\n",
      "0    0.863010   0.860575  1.562833e-10 -1.486802e-10  2.480528  2.540595   \n",
      "1    0.785265   0.784382  1.809871e-08  2.316322e-08  2.344055  2.464737   \n",
      "2    0.873172   0.446010 -2.224494e-10  2.034747e-08  2.481169  2.508142   \n",
      "3    0.816084   0.838683  6.554281e-10  6.328129e-10  2.431094  2.506532   \n",
      "4    0.847084   0.850560  5.852964e-11 -1.135940e-10  2.517307  2.058599   \n",
      "5    0.758476   0.728848  1.204467e-08  4.396350e-08  2.347135  2.338583   \n",
      "6    0.855877   0.862709  1.624048e-09  2.027506e-09  2.493003  2.428156   \n",
      "7    0.833115   0.847554  2.275839e-10  1.985548e-10  2.489569  2.543719   \n",
      "8    0.831980   0.841629  1.403565e-10  1.784066e-10  2.607676  2.677807   \n",
      "9    0.805314   0.840274  1.033898e-11  9.778471e-11  2.528216  2.579726   \n",
      "10   0.828330   0.827662 -1.029293e-09  4.170886e-10  2.535645  2.574637   \n",
      "11   0.824121   0.836669 -4.590502e-10 -2.362034e-10  2.575177  2.579954   \n",
      "\n",
      "    arCoeff6  arCoeff7  arCoeff8  arCoeff9  \n",
      "0   2.473185  2.455396 -2.349485 -2.332517  \n",
      "1   2.318996  2.334496 -2.160355 -2.259101  \n",
      "2   2.412455  2.283562 -2.328123 -2.292666  \n",
      "3   2.500899  2.454732 -2.245981 -2.296482  \n",
      "4   2.394570  2.391647 -2.360612 -1.446621  \n",
      "5   2.360208  2.348877 -1.997893 -1.878014  \n",
      "6   2.477382  2.471787 -2.330718 -1.973144  \n",
      "7   2.418796  2.398783 -2.330888 -2.387069  \n",
      "8   2.544997  2.509179 -2.361971 -2.492745  \n",
      "9   2.568677  2.519263 -2.299641 -2.274243  \n",
      "10  2.535310  2.529320 -2.358465 -2.375536  \n",
      "11  2.467475  2.460538 -2.398234 -2.389811  \n",
      "\n",
      "[12 rows x 95 columns]\n",
      "\n",
      "Standard Deviation DataFrame:\n",
      "   participant  Correlation0  Correlation1  Correlation2  Correlation3  \\\n",
      "0        VG_01      0.297702      0.200890      0.251040      0.282474   \n",
      "1        VG_02      0.305983      0.160658      0.296752      0.371560   \n",
      "2        VG_03      0.237121      0.314603      0.277988      0.331624   \n",
      "3        VG_05      0.383645      0.251916      0.247398      0.238137   \n",
      "4        VG_06      0.231521      0.253271      0.232264      0.167292   \n",
      "5        VG_07      0.295847      0.297610      0.324959      0.326566   \n",
      "6        VG_08      0.231049      0.278532      0.240868      0.225975   \n",
      "7        VG_09      0.155903      0.248395      0.265199      0.245547   \n",
      "8        VG_10      0.353481      0.269562      0.292308      0.241752   \n",
      "9        VH_01      0.280829      0.225737      0.191601      0.193516   \n",
      "10       VH_02      0.222915      0.351410      0.296288      0.328137   \n",
      "11       VH_03      0.144540      0.252236      0.307002      0.261087   \n",
      "\n",
      "    Correlation4  Correlation5       Energy0       Energy1       Energy2  ...  \\\n",
      "0       0.219898      0.323370  2.136967e-09  2.784261e-08  5.182846e-10  ...   \n",
      "1       0.382025      0.274470  4.560340e-08  4.626319e-08  4.682572e-08  ...   \n",
      "2       0.257378      0.289893  1.266874e-08  2.073453e-08  4.894510e-09  ...   \n",
      "3       0.264252      0.376230  3.918476e-08  1.855168e-08  2.998051e-09  ...   \n",
      "4       0.172023      0.235507  1.170316e-08  3.286710e-08  7.095378e-10  ...   \n",
      "5       0.311728      0.516143  6.331791e-08  5.936833e-08  5.794707e-08  ...   \n",
      "6       0.188691      0.306537  1.592038e-08  3.049296e-08  1.287857e-08  ...   \n",
      "7       0.238484      0.414428  9.863013e-09  8.015432e-09  4.102107e-10  ...   \n",
      "8       0.287531      0.364409  9.467349e-09  7.293864e-09  6.005413e-09  ...   \n",
      "9       0.188982      0.346305  3.487378e-08  2.826428e-08  2.986863e-09  ...   \n",
      "10      0.288018      0.398935  2.169088e-08  1.666228e-08  1.074624e-08  ...   \n",
      "11      0.269157      0.414494  1.020613e-08  1.230081e-08  8.671604e-09  ...   \n",
      "\n",
      "    arCoeff14  arCoeff15      arCoeff2      arCoeff3  arCoeff4  arCoeff5  \\\n",
      "0    0.021145   0.019066  1.073465e-08  1.354359e-08  0.046835  0.126417   \n",
      "1    0.150305   0.146834  2.997274e-07  3.387553e-07  0.200021  0.213263   \n",
      "2    0.052309   0.167798  2.730301e-08  2.116008e-07  0.059147  0.110550   \n",
      "3    0.045831   0.035406  1.429204e-08  1.486610e-08  0.126487  0.098426   \n",
      "4    0.018290   0.025958  1.447731e-08  1.784179e-08  0.059301  0.306396   \n",
      "5    0.224617   0.248235  2.750473e-07  3.637755e-07  0.399586  0.415890   \n",
      "6    0.050155   0.045860  2.988802e-08  3.931669e-08  0.086156  0.184205   \n",
      "7    0.026341   0.024710  1.490707e-08  1.351461e-08  0.089053  0.077664   \n",
      "8    0.040633   0.027469  9.746574e-09  1.483392e-08  0.085014  0.103045   \n",
      "9    0.036074   0.028317  9.662593e-09  8.961218e-09  0.174717  0.203145   \n",
      "10   0.070997   0.068308  2.338773e-08  2.482660e-08  0.145405  0.132376   \n",
      "11   0.029876   0.033181  4.700557e-08  3.378723e-08  0.064808  0.072996   \n",
      "\n",
      "    arCoeff6  arCoeff7  arCoeff8  arCoeff9  \n",
      "0   0.054980  0.064033  0.054303  0.219164  \n",
      "1   0.202098  0.202952  0.344609  0.360083  \n",
      "2   0.060537  0.247284  0.089564  0.177009  \n",
      "3   0.057166  0.041030  0.226160  0.160523  \n",
      "4   0.040695  0.044464  0.086450  0.447415  \n",
      "5   0.274798  0.290866  0.642636  0.645232  \n",
      "6   0.056242  0.054565  0.125585  0.297399  \n",
      "7   0.085212  0.054847  0.151672  0.124417  \n",
      "8   0.055653  0.063974  0.160516  0.168151  \n",
      "9   0.077247  0.057106  0.346051  0.366953  \n",
      "10  0.082098  0.070727  0.248667  0.225953  \n",
      "11  0.080474  0.069796  0.075006  0.094166  \n",
      "\n",
      "[12 rows x 95 columns]\n"
     ]
    }
   ],
   "source": [
    "norm_df = norm_df.loc[:,[std_group]+new_feature_names]\n",
    "\n",
    "# Calculate the mean and standard deviation for each group in df\n",
    "mean_df = norm_df.groupby(std_group).mean().reset_index()\n",
    "std_df = norm_df.groupby(std_group).std().reset_index()\n",
    "\n",
    "# self_standardised_features = ['HRVRMSSD[Normed]']\n",
    "# to_self_standardise = list(\n",
    "#     set(self_standardised_features).intersection(\n",
    "#         set(dropped_feature_names)))\n",
    "# for ssf  in to_self_standardise:\n",
    "#     tmp_df = new_df[['participant',ssf]]\n",
    "#     mean = tmp_df.groupby(\n",
    "#         'participant').mean().reset_index()\n",
    "#     std = tmp_df.groupby(\n",
    "#         'participant').std().reset_index()\n",
    "#     mean_df[ssf] = mean\n",
    "#     std_df[ssf] = std\n",
    "\n",
    "# new_feature_names.extend(to_self_standardise)    \n",
    "# dropped_feature_names = list(\n",
    "#     set(core_feature_names) - set(new_feature_names))\n",
    "# dropped_feature_names.sort()\n",
    "# print(f\"new_feature_set: {new_feature_set}\")\n",
    "# print(f\"new_feature_names: {new_feature_names}\")\n",
    "# print(f\"dropped_feature_names: {dropped_feature_names}\")\n",
    "\n",
    "print(\"Mean DataFrame:\")\n",
    "print(mean_df)\n",
    "\n",
    "print(\"\\nStandard Deviation DataFrame:\")\n",
    "print(std_df)\n",
    "\n",
    "\n",
    "# Merge the mean and std data frames with new_df on 'participant'\n",
    "new_df = new_df.merge(mean_df, on=std_group, suffixes=('', '_mean'))\n",
    "new_df = new_df.merge(std_df, on=std_group, suffixes=('', '_std'))\n",
    "\n",
    "# standardise the data columns\n",
    "dropped_columns = []\n",
    "for col in new_feature_names:\n",
    "#     print(f\"col = {col}\")\n",
    "    new_df[col] = (new_df[col] - new_df[col + '_mean']) / new_df[col + '_std']\n",
    "    dropped_columns.append(col + '_mean')\n",
    "    dropped_columns.append(col + '_std')\n",
    "\n",
    "new_df.drop(columns=dropped_columns, inplace=True)\n",
    "    "
   ]
  },
  {
   "cell_type": "code",
   "execution_count": 14,
   "id": "f0999f3c",
   "metadata": {},
   "outputs": [
    {
     "name": "stdout",
     "output_type": "stream",
     "text": [
      "writing data to ../data/featured/dreem_4secs_standardised/featured.csv\n",
      "writing config to ../data/featured/dreem_4secs_standardised/details.cfg\n"
     ]
    }
   ],
   "source": [
    "new_config = copy.deepcopy(core_config)\n",
    "\n",
    "new_config['FEATURED']['feature_set'] = new_feature_set\n",
    "new_config['FEATURED']['feature_names'] = new_feature_names\n",
    "\n",
    "new_config['STANDARDISED'] = {}\n",
    "new_config['STANDARDISED']['core_subdir'] = core_subdir\n",
    "new_config['STANDARDISED']['norm_subdir'] = norm_subdir\n",
    "new_config['STANDARDISED']['std_group'] = std_group\n",
    "\n",
    "write_featured_dataframe_and_config(\n",
    "    new_subdir, new_df, new_config)\n"
   ]
  },
  {
   "cell_type": "code",
   "execution_count": null,
   "id": "f9c0f63f",
   "metadata": {},
   "outputs": [],
   "source": []
  }
 ],
 "metadata": {
  "kernelspec": {
   "display_name": "Python 3 (ipykernel)",
   "language": "python",
   "name": "python3"
  },
  "language_info": {
   "codemirror_mode": {
    "name": "ipython",
    "version": 3
   },
   "file_extension": ".py",
   "mimetype": "text/x-python",
   "name": "python",
   "nbconvert_exporter": "python",
   "pygments_lexer": "ipython3",
   "version": "3.10.12"
  }
 },
 "nbformat": 4,
 "nbformat_minor": 5
}
