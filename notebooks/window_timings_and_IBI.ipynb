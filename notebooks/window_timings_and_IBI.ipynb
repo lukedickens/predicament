{
 "cells": [
  {
   "cell_type": "code",
   "execution_count": 1,
   "id": "bffff5a5",
   "metadata": {},
   "outputs": [
    {
     "name": "stdout",
     "output_type": "stream",
     "text": [
      "['logs', 'feature_development.ipynb', 'data', 'data_and_processing_description.ipynb', 'featured_eeg_prediction.ipynb', 'featured_prediction_random_forest.ipynb', 'window_timings_and_IBI.ipynb', 'gait_data_exploration.ipynb', 'featured_eeg_prediction_gradient_boosting.ipynb', 'Analyse_results.ipynb', '.ipynb_checkpoints', 'loading_e4_data.ipynb', 'featured_E4_prediction.ipynb', 'data_investigation_scratch.ipynb', 'grouping_and_crossvalidation.ipynb']\n"
     ]
    }
   ],
   "source": [
    "import numpy as np \n",
    "import pandas as pd \n",
    "import matplotlib.pyplot as plt\n",
    "import itertools\n",
    "import json\n",
    "from datetime import datetime\n",
    "import scipy.stats\n",
    "\n",
    "\n",
    "import scipy.stats as spstats\n",
    "# fourier transform\n",
    "from scipy.fft import fft, ifft\n",
    "\n",
    "from sklearn.metrics import classification_report\n",
    "from sklearn.ensemble import RandomForestClassifier, GradientBoostingClassifier\n",
    "\n",
    "import matplotlib.pyplot as plt\n",
    "import pandas as pd\n",
    "import seaborn as sns\n",
    "# from statsmodels.tsa.api import acf, graphics, pacf\n",
    "from statsmodels.tsa.ar_model import AutoReg\n",
    "# from statsmodels.tsa.ar_model import ar_select_order\n",
    "\n",
    "import os\n",
    "print(os.listdir(\".\"))\n",
    "\n",
    "\n",
    "import re\n",
    "res_digit = r'[0-9]'\n"
   ]
  },
  {
   "cell_type": "code",
   "execution_count": 2,
   "id": "b8e36968",
   "metadata": {},
   "outputs": [
    {
     "name": "stdout",
     "output_type": "stream",
     "text": [
      "thisdir = /home/luke/git/external/predicament/notebooks\n",
      "Adding parent directory to python path\n",
      "sys.path =\n",
      "['/home/luke/git/external/predicament/notebooks', '/home/luke/git/external/predicament', '/usr/lib/python310.zip', '/usr/lib/python3.10', '/usr/lib/python3.10/lib-dynload', '', '/home/luke/.local/lib/python3.10/site-packages', '/usr/local/lib/python3.10/dist-packages', '/usr/lib/python3/dist-packages', '/usr/lib/python3.10/dist-packages']\n"
     ]
    }
   ],
   "source": [
    "# This is a hack to make the library in the parent folder available for imoprts\n",
    "# A better solution is by np8 here:\n",
    "# https://stackoverflow.com/questions/714063/importing-modules-from-parent-folder\n",
    "import sys\n",
    "import os\n",
    "import inspect\n",
    "\n",
    "thisdir = sys.path[0]\n",
    "print(f\"thisdir = {thisdir}\")\n",
    "parentdir = os.path.dirname(thisdir)\n",
    "#print(f\"parentdir = {parentdir}\")\n",
    "if not parentdir in sys.path:\n",
    "    print(\"Adding parent directory to python path\")\n",
    "    sys.path.insert(1, parentdir)\n",
    "else:\n",
    "    print(\"Skipping adding parent direct to path (there already)\")\n",
    "\n",
    "print(f\"sys.path =\\n{sys.path}\")\n"
   ]
  },
  {
   "cell_type": "code",
   "execution_count": 3,
   "id": "92989bc0",
   "metadata": {},
   "outputs": [],
   "source": [
    "## ensure relative path to data directory is sound\n",
    "# for the notebook we need to modify the BASE_DATA_FOLDER\n",
    "import os \n",
    "os.environ['PREDICAMENT_DATA_DIR'] =  '../data'"
   ]
  },
  {
   "cell_type": "code",
   "execution_count": 4,
   "id": "8cd26e89",
   "metadata": {},
   "outputs": [],
   "source": [
    "from predicament.utils.config import DREEM_EEG_CHANNELS\n",
    "from predicament.utils.config import FEATURED_BASE_PATH\n",
    "from predicament.utils.config import WINDOWED_BASE_PATH\n",
    "from predicament.utils.config import E4_FULL_DIRPATHS\n",
    "from predicament.utils.config import E4_IBI_FILE\n",
    "\n",
    "from predicament.data.timeseries import create_participant_data_edf_only\n",
    "from predicament.data.windowed import window_all_participants_data\n",
    "from predicament.data.windowed import merge_condition_data\n",
    "from predicament.data.windowed import get_window_start_in_event_time\n",
    "from predicament.data.windowed import get_window_duration\n",
    "from predicament.data.windowed import correct_window_indices\n",
    "from predicament.data.windowed import insert_window_start_and_end_times\n",
    "from predicament.data.windowed import get_window_start_times_for_participant\n",
    "\n",
    "\n",
    "from predicament.data.partitioning import between_subject_cv_partition\n",
    "\n",
    "from predicament.data.hrv import read_and_prepare_ibi_file\n",
    "from predicament.data.hrv import getrmssds_for_participant_condition\n",
    "from predicament.data.hrv import update_df_with_rmssds\n",
    "\n",
    "from predicament.data.features import MAXIMAL_FEATURE_GROUP\n",
    "from predicament.data.features import STATS_FEATURE_GROUP\n",
    "from predicament.data.features import INFO_FEATURE_GROUP\n",
    "from predicament.data.features import FREQ_FEATURE_GROUP\n",
    "from predicament.data.features import convert_timeseries_to_features\n",
    "from prepare_evaluation_data import load_dataframe_and_config\n"
   ]
  },
  {
   "cell_type": "code",
   "execution_count": 5,
   "id": "00d748ab",
   "metadata": {},
   "outputs": [],
   "source": [
    "from predicament.data.events import load_event_info_from_csv\n"
   ]
  },
  {
   "cell_type": "code",
   "execution_count": 6,
   "id": "35487a47",
   "metadata": {},
   "outputs": [
    {
     "data": {
      "text/plain": [
       "{'VG_01': '../data/CARE_HOME_DATA/./VG01/E4_8921_15_44/',\n",
       " 'VG_03': '../data/CARE_HOME_DATA/./VG03/E4_9921_12_16/',\n",
       " 'VG_05': '../data/CARE_HOME_DATA/./VG05/E4_9921_13_24/',\n",
       " 'VG_06': '../data/CARE_HOME_DATA/./VG06/E4_51021_13_33/',\n",
       " 'VG_07': '../data/CARE_HOME_DATA/./VG07/E4_51021_15_39/',\n",
       " 'VG_08': '../data/CARE_HOME_DATA/./VG08/E4_71021_10_42/',\n",
       " 'VG_09': '../data/CARE_HOME_DATA/./VG09/E4_11221_14_46/',\n",
       " 'VG_10': '../data/CARE_HOME_DATA/./VG10/E4_31221_11_17/',\n",
       " 'VH_01': '../data/CARE_HOME_DATA/./VH01/E4_61021_11_03/',\n",
       " 'VH_02': '../data/CARE_HOME_DATA/./VH02/E4_61021_13_59/',\n",
       " 'VH_03': '../data/CARE_HOME_DATA/./VH03/E4_11221_11_22/'}"
      ]
     },
     "execution_count": 6,
     "metadata": {},
     "output_type": "execute_result"
    }
   ],
   "source": [
    "from predicament.utils.config import E4_CSV_FILES\n",
    "from predicament.utils.config import E4_FULL_DIRPATHS\n",
    "E4_FULL_DIRPATHS"
   ]
  },
  {
   "cell_type": "code",
   "execution_count": 7,
   "id": "78cb9a8e",
   "metadata": {},
   "outputs": [],
   "source": [
    "subdir = '20231206193533'\n",
    "featured_data_dir = os.path.join(FEATURED_BASE_PATH,subdir)\n",
    "\n",
    "featureddf, featured_config = load_dataframe_and_config(\n",
    "    featured_data_dir, 'featured.csv')"
   ]
  },
  {
   "cell_type": "code",
   "execution_count": 8,
   "id": "edf10c16",
   "metadata": {},
   "outputs": [
    {
     "name": "stdout",
     "output_type": "stream",
     "text": [
      "sample_rate: 64, n_samples = 256, time: 4.0s, n_channels: 7\n",
      "window_size: 256, window_step: 32, window_duration: 4.0\n"
     ]
    }
   ],
   "source": [
    "# we collect all the general information about the datafile\n",
    "# fro mthe config file\n",
    "# in particular we need to know window lengths, window steps (strides)\n",
    "# and sample rates as well as the mapping from label (condition_id) to \n",
    "# condition name\n",
    "n_channels = int(featured_config['LOAD']['n_channels'])\n",
    "channels = json.loads(featured_config['LOAD']['channels'].replace(\"'\",'\"'))\n",
    "participant_list = json.loads(featured_config['LOAD']['participant_list'].replace(\"'\",'\"'))\n",
    "label_mapping = json.loads(featured_config['LOAD']['label_mapping'].replace(\"'\",'\"'))\n",
    "sample_rate = int(featured_config['LOAD']['sample_rate'])\n",
    "window_size = int(featured_config['WINDOWED']['window_size'])\n",
    "window_step = int(featured_config['WINDOWED']['window_step'])\n",
    "time = window_size/sample_rate\n",
    "print(f\"sample_rate: {sample_rate}, n_samples = {window_size}, time: {time}s, n_channels: {n_channels}\")\n",
    "window_duration = get_window_duration(window_size, sample_rate)\n",
    "\n",
    "print(f\"window_size: {window_size}, window_step: {window_step}, window_duration: {window_duration}\")"
   ]
  },
  {
   "cell_type": "code",
   "execution_count": 9,
   "id": "c3021f97",
   "metadata": {},
   "outputs": [
    {
     "data": {
      "text/plain": [
       "['VG_01',\n",
       " 'VG_03',\n",
       " 'VG_05',\n",
       " 'VG_06',\n",
       " 'VG_07',\n",
       " 'VG_08',\n",
       " 'VG_09',\n",
       " 'VG_10',\n",
       " 'VH_01',\n",
       " 'VH_02',\n",
       " 'VH_03']"
      ]
     },
     "execution_count": 9,
     "metadata": {},
     "output_type": "execute_result"
    }
   ],
   "source": [
    "participant_list"
   ]
  },
  {
   "cell_type": "code",
   "execution_count": 10,
   "id": "5d4c0708",
   "metadata": {},
   "outputs": [
    {
     "name": "stderr",
     "output_type": "stream",
     "text": [
      "VG_01:setup is valid but timestamps have issues. What does valid mean?\n",
      "VG_01:baseline is valid but timestamps have issues. What does valid mean?\n",
      "VG_06:takeoff_EEG is valid but timestamps have issues. What does valid mean?\n",
      "VG_07:takeoff_EEG is valid but timestamps have issues. What does valid mean?\n",
      "VG_08:family_inter is valid but timestamps have issues. What does valid mean?\n",
      "VG_10:setup is valid but timestamps have issues. What does valid mean?\n",
      "VG_10:takeoff_EEG is valid but timestamps have issues. What does valid mean?\n",
      "VH_01:family_inter is valid but timestamps have issues. What does valid mean?\n"
     ]
    }
   ],
   "source": [
    "# we must load the participant event objects for the observational\n",
    "# data\n",
    "all_participants_events = load_event_info_from_csv(\n",
    "        participant_list)"
   ]
  },
  {
   "cell_type": "code",
   "execution_count": 11,
   "id": "88466bc9",
   "metadata": {},
   "outputs": [],
   "source": [
    "# we must correct the window indices as these can be incorrect\n",
    "# on older files. Needs revisiting in the preprocessing\n",
    "participants = list(all_participants_events.keys())\n",
    "correct_window_indices(participants, label_mapping, featureddf)"
   ]
  },
  {
   "cell_type": "code",
   "execution_count": 12,
   "id": "91c79bff",
   "metadata": {},
   "outputs": [],
   "source": [
    "participant = 'VG_07'\n",
    "condition_id = 3"
   ]
  },
  {
   "cell_type": "code",
   "execution_count": 13,
   "id": "fc301269",
   "metadata": {},
   "outputs": [],
   "source": [
    "# participant_events = all_participants_events[participant]\n",
    "# window_start_times = get_window_start_times_for_participant(\n",
    "#         participant_events, condition_id, label_mapping,\n",
    "#         featureddf, window_step, sample_rate)\n",
    "# window_start_times.shape"
   ]
  },
  {
   "cell_type": "code",
   "execution_count": 14,
   "id": "ef37c90f",
   "metadata": {},
   "outputs": [
    {
     "name": "stdout",
     "output_type": "stream",
     "text": [
      "participant = VG_01, condition = exper_video\n",
      "participant = VG_01, condition = familiar_music\n",
      "participant = VG_01, condition = family_inter\n",
      "participant = VG_01, condition = tchaikovsky\n",
      "participant = VG_01, condition = wildlife_video\n",
      "participant = VG_03, condition = exper_video\n",
      "participant = VG_03, condition = familiar_music\n",
      "participant = VG_03, condition = family_inter\n",
      "participant = VG_03, condition = tchaikovsky\n",
      "participant = VG_03, condition = wildlife_video\n",
      "participant = VG_05, condition = exper_video\n",
      "participant = VG_05, condition = familiar_music\n",
      "participant = VG_05, condition = family_inter\n",
      "participant = VG_05, condition = tchaikovsky\n",
      "participant = VG_05, condition = wildlife_video\n",
      "participant = VG_06, condition = exper_video\n",
      "participant = VG_06, condition = familiar_music\n",
      "participant = VG_06, condition = family_inter\n",
      "participant = VG_06, condition = tchaikovsky\n",
      "participant = VG_06, condition = wildlife_video\n",
      "participant = VG_07, condition = exper_video\n",
      "participant = VG_07, condition = familiar_music\n",
      "participant = VG_07, condition = family_inter\n",
      "participant = VG_07, condition = tchaikovsky\n",
      "participant = VG_07, condition = wildlife_video\n",
      "participant = VG_08, condition = exper_video\n",
      "participant = VG_08, condition = familiar_music\n",
      "participant = VG_08, condition = family_inter\n",
      "participant = VG_08, condition = tchaikovsky\n",
      "participant = VG_08, condition = wildlife_video\n",
      "participant = VG_09, condition = exper_video\n",
      "participant = VG_09, condition = familiar_music\n",
      "participant = VG_09, condition = family_inter\n",
      "participant = VG_09, condition = tchaikovsky\n",
      "participant = VG_09, condition = wildlife_video\n",
      "participant = VG_10, condition = exper_video\n",
      "participant = VG_10, condition = familiar_music\n",
      "participant = VG_10, condition = family_inter\n",
      "participant = VG_10, condition = tchaikovsky\n",
      "participant = VG_10, condition = wildlife_video\n",
      "participant = VH_01, condition = exper_video\n",
      "participant = VH_01, condition = familiar_music\n",
      "participant = VH_01, condition = family_inter\n",
      "participant = VH_01, condition = tchaikovsky\n",
      "participant = VH_01, condition = wildlife_video\n",
      "participant = VH_02, condition = exper_video\n",
      "participant = VH_02, condition = familiar_music\n",
      "participant = VH_02, condition = family_inter\n",
      "participant = VH_02, condition = tchaikovsky\n",
      "participant = VH_02, condition = wildlife_video\n",
      "participant = VH_03, condition = exper_video\n",
      "participant = VH_03, condition = familiar_music\n",
      "participant = VH_03, condition = family_inter\n",
      "participant = VH_03, condition = tchaikovsky\n",
      "participant = VH_03, condition = wildlife_video\n"
     ]
    }
   ],
   "source": [
    "# we must insert start and end times to our dataframe\n",
    "# in order to compare with the ibi files\n",
    "insert_window_start_and_end_times(all_participants_events, label_mapping, featureddf, window_size, window_step, sample_rate)"
   ]
  },
  {
   "cell_type": "code",
   "execution_count": 15,
   "id": "209d5245",
   "metadata": {},
   "outputs": [],
   "source": [
    "# to move to somewhere (probably predicament.data.hrv)\n",
    "\n",
    "# def getrmssds_for_participant_condition(\n",
    "#         start_end_times, successive_differences, sd_unix_times,\n",
    "#         default_sd, normed_rmssd):\n",
    "#     \"\"\"\n",
    "#     inputs\n",
    "#     ------\n",
    "#     start_end_times - start end times of window\n",
    "#     successive_differences - of ibis \n",
    "#     sd_unix_times - start times for the successive differences \n",
    "#     default_sd - default successive difference for imputation\n",
    "#     norm_result [bool] - should rmssds be normalised by the default_sd    \n",
    "#     \"\"\"\n",
    "#     # reshape successive differences\n",
    "#     successive_differences = successive_differences.reshape(-1,1)\n",
    "#     # now we create a matrix whose rows are ibi entries\n",
    "#     # and columns are window start and end times, true for cell\n",
    "#     # (i,j) if ibi row i is in window j\n",
    "#     sd_unix_times = sd_unix_times.reshape(-1,1)\n",
    "#     filter_stack = (sd_unix_times > start_end_times.T[0,:]) & (sd_unix_times <= start_end_times.T[1,:])\n",
    "#     filter_stack = filter_stack.astype(int)\n",
    "\n",
    "#     # the filter is used to pull out only successive differences from the \n",
    "#     # window in question (with marginal overlap to calculate the final succesive difference)\n",
    "#     sum_ssds = np.sum(((successive_differences**2)*filter_stack), axis=0)\n",
    "#     # we want to calculate a denominator for each row based on how many \n",
    "#     # true elements are in that column of the filter stack\n",
    "#     denominator = np.sum(filter_stack,axis=0).reshape(1,-1)\n",
    "#     # the mean squared successive difference for each window is then the normalised sum\n",
    "#     # Note: we avoid dividing by zero by forcing empty columns in filterstack to \n",
    "#     # be counted as having sum 1\n",
    "#     mssds = sum_ssds/np.maximum(denominator,1)\n",
    "#     # square root the result\n",
    "#     rmssds = np.sqrt(mssds)\n",
    "#     # now impute rmssd for the columns in filter_stack with too few values\n",
    "#     # from a brief back of the envelope investigation, I make this 2 or less\n",
    "#     rmssds[denominator<=2] = default_sd\n",
    "#     # finally, the sampling rate at 64 Hz means that very small\n",
    "#     # variations are missed. For very rare instances where 3 or \n",
    "#     # more successive differences are exactly equal, we\n",
    "#     # replace with a default value (default_sd/e seems conservative)\n",
    "#     # This allows us to consider logging the values\n",
    "#     rmssds[rmssds==0] = default_sd*np.exp(-1)\n",
    "#     rmssds = rmssds.flatten()\n",
    "#     if not normed_rmssd:\n",
    "#         return rmssds\n",
    "#     # normalisation then facilitates generalisation across participants\n",
    "#     # normed_rmssds = rmssds/default_sd\n",
    "#     normed_rmssds = rmssds/default_sd\n",
    "#     return normed_rmssds\n"
   ]
  },
  {
   "cell_type": "code",
   "execution_count": 16,
   "id": "e34ce033",
   "metadata": {},
   "outputs": [
    {
     "name": "stdout",
     "output_type": "stream",
     "text": [
      "ibis: shape=(870,), mean=0.7568067528735632, median=0.796875, zero-count = 0\n",
      "successive_differences: shape=(869,), mean=1.7980437284234753e-05, median=0.0, zero-count = 157, max=0.296875, min=-0.359375, iqr=0.0625\n",
      "normed_rmssds: shape=(1073,), mean=1.148141120597942, SD=0.676484307798566, nan count = 0\n"
     ]
    }
   ],
   "source": [
    "participant_filter = featureddf['participant'] == participant \n",
    "pc_filter = participant_filter & (featureddf['condition'] == condition_id)\n",
    "start_end_times = featureddf.loc[pc_filter, ('start time','end time')].to_numpy()\n",
    "\n",
    "# testing the sub functions\n",
    "ibi_df = read_and_prepare_ibi_file(participant)\n",
    "# get array of unix times from ibi file\n",
    "ibi_unix_times = ibi_df['unix time'].to_numpy()\n",
    "ibis = ibi_df['ibi'].to_numpy().astype(float)\n",
    "print(f\"ibis: shape={ibis.shape}, mean={np.mean(ibis)}, median={np.median(ibis)}, zero-count = {np.sum(ibis==0)}\")\n",
    "# successive differences are the differences between inter-beat intervals (ibis)\n",
    "successive_differences = np.diff(ibis)\n",
    "print(f\"successive_differences: shape={successive_differences.shape}, mean={np.mean(successive_differences)}, median={np.median(successive_differences)}, zero-count = {np.sum(successive_differences==0)}, max={np.max(successive_differences)}, min={np.min(successive_differences)}, iqr={scipy.stats.iqr(successive_differences)}\")\n",
    "default_sd = np.sqrt(np.median(successive_differences**2))\n",
    "sd_unix_times = ibi_unix_times[:-1]\n",
    "normed_rmssd = True\n",
    "normed_rmssds = getrmssds_for_participant_condition(\n",
    "        start_end_times, successive_differences, sd_unix_times,\n",
    "        default_sd, normed_rmssd)\n",
    "print(f\"normed_rmssds: shape={normed_rmssds.shape}, mean={np.mean(normed_rmssds)}, SD={np.std(normed_rmssds)}, nan count = {np.sum(np.isnan(normed_rmssds))}\")"
   ]
  },
  {
   "cell_type": "code",
   "execution_count": 17,
   "id": "5c721a42",
   "metadata": {},
   "outputs": [],
   "source": [
    "# ## To move to an appropriate module\n",
    "# # get ibi file for the participant and read+preprocess dataframe\n",
    "# def read_and_prepare_ibi_file(participant):\n",
    "#     ibi_path = os.path.join(E4_FULL_DIRPATHS[participant], E4_IBI_FILE)\n",
    "#     print(f\"ibi_path = {ibi_path}\")\n",
    "#     ibi_df = pd.read_csv(ibi_path, header=None)\n",
    "#     df_t = ibi_df.T\n",
    "#     first_row = df_t.pop(0)\n",
    "#     file_start_time = first_row[0]\n",
    "#     ibi_df = df_t.T\n",
    "#     mapper={0:'local time', 1:'ibi'}\n",
    "#     ibi_df = ibi_df.rename(columns=mapper)\n",
    "#     # the universal times of the beats are the local times\n",
    "#     # plus the universal start time for the file\n",
    "#     ibi_df['unix time'] = ibi_df['local time'] + file_start_time\n",
    "#     return ibi_df\n",
    "\n",
    "# def update_df_with_rmssds(participants, label_mapping, datadf, normed_rmssd=True):\n",
    "#     col_name = 'ibi rmssd'\n",
    "#     if normed_rmssd:\n",
    "#         col_name = 'normed ' + col_name\n",
    "#     datadf[col_name] = None\n",
    "#     for participant in participants:\n",
    "#         ibi_df = read_and_prepare_ibi_file(participant)\n",
    "#         # get array of unix times from ibi file\n",
    "#         ibi_unix_times = ibi_df['unix time'].to_numpy()\n",
    "#         ibis = ibi_df['ibi'].to_numpy().astype(float)\n",
    "#         # successive differences are the differences between inter-beat intervals (ibis)\n",
    "#         successive_differences = np.diff(ibis)\n",
    "#         sd_unix_times = ibi_unix_times[:-1]\n",
    "#         # we want to impute the successive difference if there are no\n",
    "#         # data within a given time window. We do this with the median\n",
    "#         # as default value. This also serves as a normaliser if\n",
    "#         # normalisation is required  there may be other options\n",
    "#         default_sd = np.sqrt(np.median(successive_differences**2))\n",
    "#         participant_filter = datadf['participant'] == participant \n",
    "#         for condition_id, condition_name in enumerate(label_mapping):\n",
    "#             pc_filter = participant_filter & (datadf['condition'] == condition_id)\n",
    "#             start_end_times = datadf.loc[pc_filter, ('start time','end time')].to_numpy()\n",
    "# #             print(f\"start_end_times.shape = {start_end_times.shape}\")\n",
    "#             rmssds = getrmssds_for_participant_condition(\n",
    "#                 start_end_times, successive_differences,\n",
    "#                 sd_unix_times, default_sd, normed_rmssd)\n",
    "#             if np.any(np.isnan(rmssds)):\n",
    "#                 raise ValueError(f\"rmssds contains nan results, count {np.sum(np.isnan(rmssds))}, default_sd is {default_sd}\")\n",
    "#             # now load back into the matrix via the filter\n",
    "#             datadf.loc[pc_filter,(col_name,)] = rmssds\n"
   ]
  },
  {
   "cell_type": "code",
   "execution_count": 18,
   "id": "47bc08a2",
   "metadata": {},
   "outputs": [],
   "source": [
    "update_df_with_rmssds(participants, label_mapping, featureddf, normed_rmssd=True)"
   ]
  },
  {
   "cell_type": "code",
   "execution_count": 19,
   "id": "23c94e6d",
   "metadata": {},
   "outputs": [
    {
     "name": "stdout",
     "output_type": "stream",
     "text": [
      "normed ibi rmssd:\n",
      "\tempty rows = 0 of 25296\n",
      "\tmean = 1.3431992728848148\n",
      "\tSD = 1.229430821099008\n",
      "\tdefault_count = 15387\n"
     ]
    }
   ],
   "source": [
    "normed_ibi_rmssds = featureddf['normed ibi rmssd']\n",
    "empty_rows = normed_ibi_rmssds.isnull()\n",
    "n_empty_rows = np.sum(empty_rows)\n",
    "print(f\"normed ibi rmssd:\")\n",
    "print(f\"\\tempty rows = {n_empty_rows} of {len(featureddf.index)}\")\n",
    "print(f\"\\tmean = {normed_ibi_rmssds.mean()}\")\n",
    "print(f\"\\tSD = {normed_ibi_rmssds.std()}\")\n",
    "print(f\"\\tdefault_count = {np.sum(normed_ibi_rmssds==1.0)}\")"
   ]
  },
  {
   "cell_type": "markdown",
   "id": "b11154e1",
   "metadata": {},
   "source": [
    "## Sanity checks for data and inferred times"
   ]
  },
  {
   "cell_type": "code",
   "execution_count": 20,
   "id": "4292a8e9",
   "metadata": {},
   "outputs": [
    {
     "name": "stdout",
     "output_type": "stream",
     "text": [
      "condition: exper_video, inferred_duration: 420.0, actual_duration=480\n",
      "condition: familiar_music, inferred_duration: 240.0, actual_duration=300\n",
      "condition: family_inter, inferred_duration: 240.0, actual_duration=300\n",
      "condition: tchaikovsky, inferred_duration: 240.0, actual_duration=300\n",
      "condition: wildlife_video, inferred_duration: 240.0, actual_duration=300\n"
     ]
    }
   ],
   "source": [
    "# check inferred times match with true times\n",
    "participant = 'VG_01'\n",
    "timeformat = '%H:%M:%S'\n",
    "from datetime import datetime\n",
    "event_details = pd.read_csv('../data/CARE_HOME_DATA/event_details.csv')\n",
    "label_mapping.sort()\n",
    "for condition_id, condition_name in enumerate(label_mapping):\n",
    "    focaldf = featureddf[(featureddf['participant']== participant)&(featureddf['condition']== condition_id)]\n",
    "    max_index = focaldf['window index'].max()\n",
    "    inferred_duration = max_index*window_step/sample_rate + window_duration\n",
    "    filter_ = event_details['partID'] == participant\n",
    "    filter_ &= event_details['event'] == condition_name\n",
    "    start_end = event_details.loc[filter_,['start','end']].to_numpy()[0]\n",
    "    t0  = datetime.strptime(start_end[0], timeformat)\n",
    "    t1  = datetime.strptime(start_end[1], timeformat)\n",
    "    delta = t1-t0\n",
    "    print(f\"condition: {condition_name}, inferred_duration: {inferred_duration}, actual_duration={delta.seconds}\")\n",
    "    if not np.isclose(inferred_duration+60, delta.seconds):\n",
    "        print(\"Ooops\")"
   ]
  },
  {
   "cell_type": "code",
   "execution_count": 21,
   "id": "e7ca4250",
   "metadata": {},
   "outputs": [
    {
     "name": "stdout",
     "output_type": "stream",
     "text": [
      "Inferred experimental window: 2021-09-08 15:02:30--2021-09-08 15:26:30\n"
     ]
    }
   ],
   "source": [
    "# sanity check that the range of times coincides with that derived from the ibi file\n",
    "inferred_times = featureddf.loc[featureddf['participant']==participant,'start time'].to_numpy().astype(float)\n",
    "ts_start = int(inferred_times[0])\n",
    "ts_end = int(inferred_times[-1])+window_duration\n",
    "dtformat = '%Y-%m-%d %H:%M:%S'\n",
    "\n",
    "start_str = datetime.utcfromtimestamp(ts_start).strftime(dtformat)\n",
    "end_str = datetime.utcfromtimestamp(ts_end).strftime(dtformat)\n",
    "print(f\"Inferred experimental window: {start_str}--{end_str}\")"
   ]
  },
  {
   "cell_type": "code",
   "execution_count": 22,
   "id": "e5422386",
   "metadata": {},
   "outputs": [
    {
     "name": "stdout",
     "output_type": "stream",
     "text": [
      "IBI experimental window: 2021-10-05 14:40:39--2021-10-05 15:15:18\n"
     ]
    }
   ],
   "source": [
    "ibi_start = int(ibi_unix_times[0])\n",
    "ibi_end = int(ibi_unix_times[-1])\n",
    "start_str = datetime.utcfromtimestamp(ibi_start).strftime(dtformat)\n",
    "end_str = datetime.utcfromtimestamp(ibi_end).strftime(dtformat)\n",
    "print(f\"IBI experimental window: {start_str}--{end_str}\")\n"
   ]
  },
  {
   "cell_type": "code",
   "execution_count": 23,
   "id": "b056fc6d",
   "metadata": {},
   "outputs": [
    {
     "name": "stdout",
     "output_type": "stream",
     "text": [
      "np.min(values) = 0.22360679774997896\n",
      "np.min(values) = 0.22360679774997896\n"
     ]
    },
    {
     "data": {
      "text/plain": [
       "([<matplotlib.axis.XTick at 0x7efbee739000>,\n",
       "  <matplotlib.axis.XTick at 0x7efbee7381f0>,\n",
       "  <matplotlib.axis.XTick at 0x7efbee9718d0>,\n",
       "  <matplotlib.axis.XTick at 0x7efbeeb57040>,\n",
       "  <matplotlib.axis.XTick at 0x7efbeeb56050>,\n",
       "  <matplotlib.axis.XTick at 0x7efbee5f40a0>,\n",
       "  <matplotlib.axis.XTick at 0x7efbee5f46d0>,\n",
       "  <matplotlib.axis.XTick at 0x7efbee5f4e20>,\n",
       "  <matplotlib.axis.XTick at 0x7efbee5f5570>,\n",
       "  <matplotlib.axis.XTick at 0x7efbee5f5cc0>],\n",
       " [Text(-0.8, 0, '0.16'),\n",
       "  Text(-0.6000000000000001, 0, '0.25'),\n",
       "  Text(-0.4, 0, '0.40'),\n",
       "  Text(-0.19999999999999996, 0, '0.63'),\n",
       "  Text(0.0, 0, '1.00'),\n",
       "  Text(0.19999999999999996, 0, '1.58'),\n",
       "  Text(0.40000000000000013, 0, '2.51'),\n",
       "  Text(0.6000000000000001, 0, '3.98'),\n",
       "  Text(0.8, 0, '6.31'),\n",
       "  Text(1.0, 0, '10.00')])"
      ]
     },
     "execution_count": 23,
     "metadata": {},
     "output_type": "execute_result"
    },
    {
     "data": {
      "image/png": "[encoded data removed]",
      "text/plain": [
       "<Figure size 640x480 with 1 Axes>"
      ]
     },
     "metadata": {},
     "output_type": "display_data"
    }
   ],
   "source": [
    "# let's have a look at the normed_rmssds we calculate\n",
    "values = normed_rmssds.flatten()\n",
    "print(f\"np.min(values) = {np.min(values)}\")\n",
    "values[values == 0] = np.exp(-1)\n",
    "print(f\"np.min(values) = {np.min(values)}\")\n",
    "plt.hist(np.log10(values), bins=30)\n",
    "xticks, labels =  plt.xticks()\n",
    "# base10ticks = xticks/np.log(10)\n",
    "base10labels = [f\"{t:.2f}\" for t in 10**xticks ]\n",
    "plt.xticks(xticks,base10labels)\n",
    "# /plt.xticks(xticks, np.exp(xticks))\n",
    "# plt.xscale('log')"
   ]
  },
  {
   "cell_type": "code",
   "execution_count": 24,
   "id": "5682cf18",
   "metadata": {},
   "outputs": [
    {
     "data": {
      "text/plain": [
       "array([-0.8, -0.6, -0.4, -0.2,  0. ,  0.2,  0.4,  0.6,  0.8,  1. ])"
      ]
     },
     "execution_count": 24,
     "metadata": {},
     "output_type": "execute_result"
    }
   ],
   "source": [
    "xticks"
   ]
  },
  {
   "cell_type": "code",
   "execution_count": 25,
   "id": "32a005f4",
   "metadata": {},
   "outputs": [
    {
     "data": {
      "text/plain": [
       "[Text(-0.8, 0, '0.16'),\n",
       " Text(-0.6000000000000001, 0, '0.25'),\n",
       " Text(-0.4, 0, '0.40'),\n",
       " Text(-0.19999999999999996, 0, '0.63'),\n",
       " Text(0.0, 0, '1.00'),\n",
       " Text(0.19999999999999996, 0, '1.58'),\n",
       " Text(0.40000000000000013, 0, '2.51'),\n",
       " Text(0.6000000000000001, 0, '3.98'),\n",
       " Text(0.8, 0, '6.31'),\n",
       " Text(1.0, 0, '10.00')]"
      ]
     },
     "execution_count": 25,
     "metadata": {},
     "output_type": "execute_result"
    }
   ],
   "source": [
    "labels"
   ]
  },
  {
   "cell_type": "code",
   "execution_count": null,
   "id": "59e478b9",
   "metadata": {},
   "outputs": [],
   "source": []
  }
 ],
 "metadata": {
  "kernelspec": {
   "display_name": "Python 3 (ipykernel)",
   "language": "python",
   "name": "python3"
  },
  "language_info": {
   "codemirror_mode": {
    "name": "ipython",
    "version": 3
   },
   "file_extension": ".py",
   "mimetype": "text/x-python",
   "name": "python",
   "nbconvert_exporter": "python",
   "pygments_lexer": "ipython3",
   "version": "3.10.12"
  }
 },
 "nbformat": 4,
 "nbformat_minor": 5
}
