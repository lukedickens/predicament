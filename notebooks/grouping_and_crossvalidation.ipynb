{
 "cells": [
  {
   "cell_type": "markdown",
   "id": "7097a7ca",
   "metadata": {},
   "source": [
    "This is a live notebook with experimental code to develop functionality for grouping and cross validation."
   ]
  },
  {
   "cell_type": "code",
   "execution_count": 16,
   "id": "04620ab0",
   "metadata": {},
   "outputs": [
    {
     "name": "stdout",
     "output_type": "stream",
     "text": [
      "['debug_windowing_data.ipynb', 'feature_vs_condition_correlations.png', 'testing_mlpwrapper.ipynb', 'group_standardisation_of_features.ipynb', 'logs', 'feature_pairwise_plotting.ipynb', 'analyse_results.ipynb', 'gait_data_features.ipynb', 'feature_feature_correlations.ipynb', 'feature_development.ipynb', 'data', 'test_sample_entropy_implementations.ipynb', 'merging_dataframes.ipynb', 'data_and_processing_description.ipynb', 'feature_comparator_correlations.ipynb', 'featured_prediction_random_forest.ipynb', 'window_timings_and_IBI.ipynb', 'gait_data_exploration.ipynb', 'processing_status.ipynb', '.ipynb_checkpoints', 'loading_e4_data.ipynb', 'data_investigation_scratch.ipynb', 'simply_load_and_inspect_data.ipynb', 'grouping_and_crossvalidation.ipynb', 'sample-entropy-numba-impl.ipynb', 'featured_prediction.ipynb']\n"
     ]
    }
   ],
   "source": [
    "import numpy as np \n",
    "import pandas as pd \n",
    "import matplotlib.pyplot as plt\n",
    "import itertools\n",
    "\n",
    "\n",
    "from sklearn.model_selection import GroupKFold\n",
    "\n",
    "import matplotlib.pyplot as plt\n",
    "import pandas as pd\n",
    "\n",
    "import os\n",
    "print(os.listdir(\".\"))\n",
    "\n",
    "\n",
    "import re\n",
    "res_digit = r'[0-9]'"
   ]
  },
  {
   "cell_type": "code",
   "execution_count": 2,
   "id": "128460f2",
   "metadata": {},
   "outputs": [
    {
     "name": "stdout",
     "output_type": "stream",
     "text": [
      "thisdir = /home/luke/git/external/predicament/notebooks\n",
      "Adding parent directory to python path\n",
      "sys.path =\n",
      "['/home/luke/git/external/predicament/notebooks', '/home/luke/git/external/predicament', '/usr/lib/python310.zip', '/usr/lib/python3.10', '/usr/lib/python3.10/lib-dynload', '', '/home/luke/.local/lib/python3.10/site-packages', '/usr/local/lib/python3.10/dist-packages', '/usr/lib/python3/dist-packages', '/usr/lib/python3.10/dist-packages']\n"
     ]
    }
   ],
   "source": [
    "# This is a hack to make the library in the parent folder available for imoprts\n",
    "# A better solution is by np8 here:\n",
    "# https://stackoverflow.com/questions/714063/importing-modules-from-parent-folder\n",
    "import sys\n",
    "import os\n",
    "import inspect\n",
    "\n",
    "thisdir = sys.path[0]\n",
    "print(f\"thisdir = {thisdir}\")\n",
    "parentdir = os.path.dirname(thisdir)\n",
    "#print(f\"parentdir = {parentdir}\")\n",
    "if not parentdir in sys.path:\n",
    "    print(\"Adding parent directory to python path\")\n",
    "    sys.path.insert(1, parentdir)\n",
    "else:\n",
    "    print(\"Skipping adding parent direct to path (there already)\")\n",
    "\n",
    "print(f\"sys.path =\\n{sys.path}\")\n"
   ]
  },
  {
   "cell_type": "code",
   "execution_count": 3,
   "id": "8dca6b7f",
   "metadata": {},
   "outputs": [],
   "source": [
    "## ensure relative path to data directory is sound\n",
    "# for the notebook we need to modify the BASE_DATA_FOLDER\n",
    "import os \n",
    "os.environ['PREDICAMENT_DATA_DIR'] =  '../data'"
   ]
  },
  {
   "cell_type": "code",
   "execution_count": 10,
   "id": "c2419060",
   "metadata": {},
   "outputs": [],
   "source": [
    "from predicament.utils.file_utils import load_featured_dataframe_and_config\n",
    "from predicament.evaluation.grouping import get_group_assignments\n",
    "from predicament.evaluation.staging import get_design_matrix\n"
   ]
  },
  {
   "cell_type": "markdown",
   "id": "461f3511",
   "metadata": {},
   "source": [
    "## Load data"
   ]
  },
  {
   "cell_type": "code",
   "execution_count": 17,
   "id": "29990289",
   "metadata": {},
   "outputs": [
    {
     "name": "stdout",
     "output_type": "stream",
     "text": [
      "sample_rate: 64, n_samples = 640, time: 10.0s, n_channels: 7\n"
     ]
    }
   ],
   "source": [
    "subdir = 'E4_10secs'\n",
    "df, config = load_featured_dataframe_and_config(\n",
    "    subdir)\n",
    "\n",
    "n_channels = config['LOAD']['n_channels']\n",
    "channels = config['LOAD']['channels']\n",
    "participant_list = config['LOAD']['participant_list']\n",
    "sample_rate = config['LOAD']['sample_rate']\n",
    "window_size = config['WINDOWED']['window_size']\n",
    "feature_set = config['FEATURED']['feature_set']\n",
    "time = window_size/sample_rate\n",
    "print(f\"sample_rate: {sample_rate}, n_samples = {window_size}, time: {time}s, n_channels: {n_channels}\")\n"
   ]
  },
  {
   "cell_type": "code",
   "execution_count": 24,
   "id": "15dba750",
   "metadata": {},
   "outputs": [
    {
     "name": "stdout",
     "output_type": "stream",
     "text": [
      "len(groups) = 11\n",
      "len(group_assignments) = 9906\n"
     ]
    }
   ],
   "source": [
    "held_out, groups, group_assignments = get_group_assignments(\n",
    "    df)\n",
    "n_groups = len(groups)\n",
    "# cross validation splits    \n",
    "group_kfold = GroupKFold(n_splits=n_groups)\n",
    "\n",
    "print(f\"len(groups) = {len(groups)}\")\n",
    "print(f\"len(group_assignments) = {len(group_assignments)}\")\n"
   ]
  },
  {
   "cell_type": "code",
   "execution_count": 25,
   "id": "2fb142f5",
   "metadata": {},
   "outputs": [
    {
     "name": "stdout",
     "output_type": "stream",
     "text": [
      "X.shape = (9906, 159)\n",
      "y.shape = (9906,)\n"
     ]
    }
   ],
   "source": [
    "feature_types, feature_names, designmtx = get_design_matrix(\n",
    "    df, feature_set)\n",
    "# extract labels\n",
    "labels = df['condition'].values.astype(int)\n",
    "X = designmtx\n",
    "y = labels\n",
    "\n",
    "print(f\"X.shape = {X.shape}\")\n",
    "print(f\"y.shape = {y.shape}\")\n"
   ]
  },
  {
   "cell_type": "code",
   "execution_count": 33,
   "id": "a4bdbf2b",
   "metadata": {},
   "outputs": [
    {
     "name": "stdout",
     "output_type": "stream",
     "text": [
      "Fold 0:\n",
      "  Test:\n",
      "\tgroup=[0]\n",
      "Fold 1:\n",
      "  Test:\n",
      "\tgroup=[10]\n",
      "Fold 2:\n",
      "  Test:\n",
      "\tgroup=[9]\n",
      "Fold 3:\n",
      "  Test:\n",
      "\tgroup=[3]\n",
      "Fold 4:\n",
      "  Test:\n",
      "\tgroup=[2]\n",
      "Fold 5:\n",
      "  Test:\n",
      "\tgroup=[6]\n",
      "Fold 6:\n",
      "  Test:\n",
      "\tgroup=[5]\n",
      "Fold 7:\n",
      "  Test:\n",
      "\tgroup=[7]\n",
      "Fold 8:\n",
      "  Test:\n",
      "\tgroup=[1]\n",
      "Fold 9:\n",
      "  Test:\n",
      "\tgroup=[8]\n",
      "Fold 10:\n",
      "  Test:\n",
      "\tgroup=[4]\n"
     ]
    }
   ],
   "source": [
    "for i, (train_index, test_index) in enumerate(group_kfold.split(X, y, group_assignments)):\n",
    "\n",
    "    print(f\"Fold {i}:\")\n",
    "#     print(f\"  Train:\\n\\tindex={train_index},\\n\\tgroup={group_assignments[train_index]}\")\n",
    "    print(f\"  Test:\")\n",
    "#     print(f\"\\tindex={test_index},\")\n",
    "    print(f\"\\tgroup={np.unique(group_assignments[test_index])}\")"
   ]
  },
  {
   "cell_type": "code",
   "execution_count": 36,
   "id": "cb055ddd",
   "metadata": {},
   "outputs": [
    {
     "data": {
      "text/plain": [
       "[['VG_01'],\n",
       " ['VH_03'],\n",
       " ['VH_02'],\n",
       " ['VG_06'],\n",
       " ['VG_05'],\n",
       " ['VG_09'],\n",
       " ['VG_08'],\n",
       " ['VG_10'],\n",
       " ['VG_03'],\n",
       " ['VH_01'],\n",
       " ['VG_07']]"
      ]
     },
     "execution_count": 36,
     "metadata": {},
     "output_type": "execute_result"
    }
   ],
   "source": [
    "test_participants = []\n",
    "for i, (train_index, test_index) in enumerate(group_kfold.split(X, y, group_assignments)):\n",
    "    fold_pids = np.unique(group_assignments[test_index])\n",
    "    fold_participants = [ participant_list[p] for p in fold_pids]\n",
    "    test_participants.append(fold_participants)\n",
    "test_participants"
   ]
  },
  {
   "cell_type": "code",
   "execution_count": null,
   "id": "57df4eca",
   "metadata": {},
   "outputs": [],
   "source": []
  }
 ],
 "metadata": {
  "kernelspec": {
   "display_name": "Python 3 (ipykernel)",
   "language": "python",
   "name": "python3"
  },
  "language_info": {
   "codemirror_mode": {
    "name": "ipython",
    "version": 3
   },
   "file_extension": ".py",
   "mimetype": "text/x-python",
   "name": "python",
   "nbconvert_exporter": "python",
   "pygments_lexer": "ipython3",
   "version": "3.10.12"
  }
 },
 "nbformat": 4,
 "nbformat_minor": 5
}
